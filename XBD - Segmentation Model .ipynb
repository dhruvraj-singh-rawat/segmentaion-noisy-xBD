{
 "cells": [
  {
   "cell_type": "markdown",
   "id": "df632e2a",
   "metadata": {},
   "source": [
    "# Config"
   ]
  },
  {
   "cell_type": "code",
   "execution_count": 37,
   "id": "1bd098aa",
   "metadata": {},
   "outputs": [
    {
     "name": "stdout",
     "output_type": "stream",
     "text": [
      "Segmentation Models: using `tf.keras` framework.\n"
     ]
    },
    {
     "name": "stderr",
     "output_type": "stream",
     "text": [
      "/var/folders/3y/1js5b25s1b1dk8g7drn7_g8h0000gn/T/ipykernel_9663/4065838880.py:14: DeprecationWarning: Please use `generic_filter` from the `scipy.ndimage` namespace, the `scipy.ndimage.filters` namespace is deprecated.\n",
      "  from scipy.ndimage.filters import generic_filter\n"
     ]
    }
   ],
   "source": [
    "import os\n",
    "os.environ[\"SM_FRAMEWORK\"] = \"tf.keras\"\n",
    "import segmentation_models as sm\n",
    "import tensorflow as tf\n",
    "from focal_loss import BinaryFocalLoss,sparse_categorical_focal_loss\n",
    "\n",
    "import os\n",
    "import cv2\n",
    "import numpy as np \n",
    "import random\n",
    "import numpy as np\n",
    "from PIL import Image\n",
    "\n",
    "from scipy.ndimage.filters import generic_filter\n",
    "\n",
    "# Input Image Dir\n",
    "image_dir = \"train/images/\"\n",
    "image_target_dir = \"train/targets/\"\n",
    "\n",
    "# Output Dir\n",
    "output_image_dir = \"blurred_images/train/images/\"\n",
    "output_target_dir = \"blurred_images/train/targets/\"\n",
    "\n",
    "# Noise Parameters \n",
    "\n",
    "gaussian_stddev = 0.35\n",
    "salt_pepper_probability = 0.002\n",
    "\n",
    "# Majority Filter Parameters \n",
    "\n",
    "perform_majority_filtering = 1\n",
    "neighborhood_size = (3, 3)  # 3x3 neighborhood\n",
    "threshold = 8  # Threshold value"
   ]
  },
  {
   "cell_type": "markdown",
   "id": "7da1fc55",
   "metadata": {},
   "source": [
    "## Visualize Noisy Images"
   ]
  },
  {
   "cell_type": "code",
   "execution_count": 3,
   "id": "83b92a92",
   "metadata": {},
   "outputs": [
    {
     "data": {
      "text/plain": [
       "-1"
      ]
     },
     "execution_count": 3,
     "metadata": {},
     "output_type": "execute_result"
    }
   ],
   "source": [
    "# List all image files in the directory\n",
    "image_files = [f for f in os.listdir(image_dir) if f.endswith((\".jpg\", \".jpeg\", \".png\"))]\n",
    "\n",
    "indx = random.randint(0, len(image_files))\n",
    "image_file = image_files[indx]\n",
    "\n",
    "\n",
    "# Read the image\n",
    "image_path = os.path.join(image_dir, image_file)\n",
    "image = cv2.imread(image_path)\n",
    "\n",
    "# Add Gaussian noise\n",
    "mean = 0\n",
    "stddev = gaussian_stddev\n",
    "gaussian_noise = np.random.normal(mean, stddev, image.shape).astype(np.uint8)\n",
    "noisy_image_gaussian = cv2.add(image, gaussian_noise)\n",
    "\n",
    "# Add salt and pepper noise\n",
    "salt_pepper_noise = np.zeros(image.shape, np.uint8)\n",
    "probability = salt_pepper_probability\n",
    "salt = np.where(np.random.rand(*image.shape[:2]) < probability)\n",
    "pepper = np.where(np.random.rand(*image.shape[:2]) < probability)\n",
    "salt_pepper_noise[salt] = 255\n",
    "salt_pepper_noise[pepper] = 0\n",
    "noisy_image_salt_pepper = cv2.add(image, salt_pepper_noise)\n",
    "\n",
    "cv2.imshow(\"Original Image\", image)\n",
    "cv2.imshow(\"Noisy Image (Salt&Pepper)\", noisy_image_salt_pepper)\n",
    "cv2.imshow(\"Noisy Image (Gaussian)\", noisy_image_gaussian)\n",
    "\n",
    "cv2.waitKey(0)\n",
    "cv2.destroyAllWindows()\n",
    "cv2.waitKey(1)\n"
   ]
  },
  {
   "cell_type": "markdown",
   "id": "b8930dee",
   "metadata": {},
   "source": [
    "## Defining Basic Functions "
   ]
  },
  {
   "cell_type": "code",
   "execution_count": 34,
   "id": "03dbbfc0",
   "metadata": {},
   "outputs": [],
   "source": [
    "def majority_filter(mask, neighborhood_size, threshold):\n",
    "    def majority_value(arr):\n",
    "        unique_classes, counts = np.unique(arr, return_counts=True, axis=0)\n",
    "        max_count = np.max(counts)\n",
    "        if max_count >= threshold:  # Check if the max count crosses the threshold\n",
    "            majority_class = unique_classes[np.argmax(counts)]\n",
    "            return majority_class\n",
    "        else:\n",
    "            return arr[int(len(arr)/2)]  # Keep the original value\n",
    "\n",
    "    filtered_mask = np.zeros_like(mask)\n",
    "\n",
    "    for channel in range(mask.shape[2]):\n",
    "        channel_filtered = generic_filter(mask[:, :, channel], majority_value, size=neighborhood_size)\n",
    "        filtered_mask[:, :, channel] = channel_filtered\n",
    "\n",
    "    return filtered_mask\n",
    "\n",
    "def generate_noisy_images(input_dir,image_target_dir,\n",
    "                          output_image_dir,output_target_dir,\n",
    "                          gaussian_stddev,salt_pepper_probability,\n",
    "                         perform_majority_filtering,\n",
    "                         early_stopping = False):\n",
    "\n",
    "    # Create separate folders for different types of noise\n",
    "    output_dir_image = os.path.join('', output_image_dir)\n",
    "    output_dir_mask = os.path.join('', output_target_dir)\n",
    "\n",
    "\n",
    "    os.makedirs(output_dir_image, exist_ok=True)\n",
    "    os.makedirs(output_dir_mask, exist_ok=True)\n",
    "\n",
    "\n",
    "    # List all image files in the directory\n",
    "    image_files = [f for f in os.listdir(input_dir) if f.endswith((\".jpg\", \".jpeg\", \".png\"))]\n",
    "\n",
    "    for image_file in image_files:\n",
    "        # Read the image\n",
    "        image_path = os.path.join(image_dir, image_file)\n",
    "        image = cv2.imread(image_path)\n",
    "        \n",
    "        # Read Mask\n",
    "        image_mask_path = os.path.join(image_target_dir, image_file[:-4] + '_target.png')\n",
    "        #mask = cv2.imread(image_mask_path)\n",
    "        mask = Image.open(image_mask_path)\n",
    "        \n",
    "        if perform_majority_filtering:\n",
    "            mask = majority_filter(mask, neighborhood_size, threshold)\n",
    "        \n",
    "\n",
    "        # Add Gaussian noise\n",
    "        mean = 0\n",
    "        stddev = gaussian_stddev\n",
    "        gaussian_noise = np.random.normal(mean, stddev, image.shape).astype(np.uint8)\n",
    "        noisy_image_gaussian = cv2.add(image, gaussian_noise)\n",
    "\n",
    "        # Add salt and pepper noise\n",
    "        salt_pepper_noise = np.zeros(image.shape, np.uint8)\n",
    "        probability = salt_pepper_probability\n",
    "        salt = np.where(np.random.rand(*image.shape[:2]) < probability)\n",
    "        pepper = np.where(np.random.rand(*image.shape[:2]) < probability)\n",
    "        salt_pepper_noise[salt] = 255\n",
    "        salt_pepper_noise[pepper] = 0\n",
    "        noisy_image_salt_pepper = cv2.add(image, salt_pepper_noise)\n",
    "\n",
    "\n",
    "\n",
    "        # Save the noisy images in separate folders\n",
    "        output_path_gaussian = os.path.join(output_dir_image, image_file[:-4]+'_gaussian'+image_file[-4:])\n",
    "        output_path_salt_pepper = os.path.join(output_dir_image, image_file[:-4]+'_salt_pepper'+image_file[-4:])\n",
    "        output_path_original = os.path.join(output_dir_image, image_file)\n",
    "        \n",
    "        # Mask for different Noise\n",
    "        output_path_gaussian_mask = os.path.join(output_dir_mask, image_file[:-4]+'_gaussian_target'+image_file[-4:])\n",
    "        output_path_salt_pepper_mask = os.path.join(output_dir_mask, image_file[:-4]+'_salt_pepper_target'+image_file[-4:])\n",
    "        output_path_original_mask = os.path.join(output_dir_mask, image_file[:-4]+'_target'+image_file[-4:])\n",
    "        \n",
    "        # Saving\n",
    "        cv2.imwrite(output_path_gaussian, noisy_image_gaussian)\n",
    "        cv2.imwrite(output_path_salt_pepper, noisy_image_salt_pepper)\n",
    "        cv2.imwrite(output_path_original, image)\n",
    "        \n",
    "#         cv2.imwrite(output_path_gaussian_mask,mask)\n",
    "#         cv2.imwrite(,mask)\n",
    "#         cv2.imwrite(,mask)\n",
    "        mask.save(output_path_gaussian_mask)\n",
    "        mask.save(output_path_salt_pepper_mask)\n",
    "        mask.save(output_path_original_mask)\n",
    "        \n",
    "        if early_stopping:\n",
    "            break\n",
    "\n",
    "    print(\"Noisy images saved.\")\n",
    "\n",
    "\n",
    "def load_data(data_dir, resize=False):\n",
    "    # Set the paths to the directories containing the dataset\n",
    "    images_dir = os.path.join(data_dir, 'images')\n",
    "    labels_dir = os.path.join(data_dir, 'targets')\n",
    "\n",
    "    \n",
    "    # Set the input image dimensions\n",
    "    input_shape = (128, 128, 3)  # Adjust as needed\n",
    "\n",
    "    # Get the list of image filenames\n",
    "    image_filenames = os.listdir(images_dir)\n",
    "\n",
    "    # Batch size for loading images\n",
    "    batch_size = 32\n",
    "\n",
    "    # Prepare the data for training\n",
    "    X_train = []\n",
    "    y_train = []\n",
    "\n",
    "    # Process images in batches\n",
    "    for i in range(0, len(image_filenames), batch_size):\n",
    "        batch_filenames = image_filenames[i:i + batch_size]\n",
    "        batch_X = []\n",
    "        batch_y = []\n",
    "\n",
    "        for filename in batch_filenames:\n",
    "            # Load pre and post-disaster images\n",
    "            pre_image_path = os.path.join(images_dir, filename)\n",
    "            pre_image = cv2.imread(pre_image_path)\n",
    "\n",
    "            # Load the corresponding label\n",
    "            label_filename = filename[:-4] + '_target.png'\n",
    "            label_path = os.path.join(labels_dir, label_filename)\n",
    "            label = cv2.imread(label_path, cv2.IMREAD_GRAYSCALE)\n",
    "\n",
    "            if resize:\n",
    "                # Resize the images to the desired shape\n",
    "                pre_image = cv2.resize(pre_image, (input_shape[0], input_shape[1]))\n",
    "                label = cv2.resize(label, (input_shape[0], input_shape[1]))\n",
    "\n",
    "            # Add the data to the batch\n",
    "            batch_X.append(pre_image)\n",
    "            batch_y.append(label)\n",
    "\n",
    "        # Convert the batch lists to numpy arrays\n",
    "        batch_X = np.array(batch_X)\n",
    "        print(len(batch_y))\n",
    "\n",
    "        # Check if all labels in the batch have the same shape\n",
    "        label_shapes = set([label.shape for label in batch_y])\n",
    "        if len(label_shapes) > 1:\n",
    "            raise ValueError(\"Labels in the batch have different shapes.\")\n",
    "\n",
    "        batch_y = np.array(batch_y)\n",
    "\n",
    "        # Add the batch data to the training set\n",
    "        X_train.append(batch_X)\n",
    "        y_train.append(batch_y)\n",
    "\n",
    "    # Concatenate the batches to obtain the final training data\n",
    "    X_train = np.concatenate(X_train)\n",
    "    y_train = np.concatenate(y_train)\n",
    "\n",
    "    return X_train, y_train\n",
    "\n",
    "\n"
   ]
  },
  {
   "cell_type": "code",
   "execution_count": 35,
   "id": "33a74ba2",
   "metadata": {},
   "outputs": [
    {
     "name": "stdout",
     "output_type": "stream",
     "text": [
      "Noisy images saved.\n"
     ]
    }
   ],
   "source": [
    "# Generate Noisy Image Dataset - Skip of Already Created \n",
    "\n",
    "generate_noisy_images(image_dir,image_target_dir,\n",
    "                      output_image_dir,output_target_dir,\n",
    "                      gaussian_stddev,salt_pepper_probability,\n",
    "                     perform_majority_filtering = 0 ,\n",
    "                     early_stopping = True)\n"
   ]
  },
  {
   "cell_type": "code",
   "execution_count": 31,
   "id": "ced88f59",
   "metadata": {},
   "outputs": [],
   "source": [
    "# Bin the Mask - ( 0 - No Damage , 1 Damaged )\n"
   ]
  },
  {
   "cell_type": "code",
   "execution_count": 39,
   "id": "e6c03b84",
   "metadata": {},
   "outputs": [
    {
     "name": "stdout",
     "output_type": "stream",
     "text": [
      "blurred_images/train/targets\n",
      "3\n"
     ]
    }
   ],
   "source": [
    "BACKBONE = 'resnet50'\n",
    "\n",
    "(X,y) = load_data('blurred_images/train',resize = False)\n",
    "\n",
    "from keras.utils import normalize\n",
    "from segmentation_models import get_preprocessing\n",
    "from sklearn.model_selection import train_test_split\n",
    "\n",
    "\n",
    "y = np.expand_dims(y, axis=3)\n",
    "\n",
    "n_classes = 5\n",
    "\n",
    "from keras.utils import to_categorical\n",
    "train_masks_cat = to_categorical(y, num_classes=n_classes)\n",
    "y_train_cat = train_masks_cat.reshape((y.shape[0], y.shape[1], y.shape[2], n_classes))\n",
    "\n",
    "X_train, X_val, y_train, y_val  = train_test_split(X, y_train_cat, test_size=0.1, random_state=1)\n"
   ]
  },
  {
   "cell_type": "code",
   "execution_count": null,
   "id": "e8ca3ccd",
   "metadata": {},
   "outputs": [],
   "source": []
  },
  {
   "cell_type": "code",
   "execution_count": null,
   "id": "ee14f2af",
   "metadata": {},
   "outputs": [],
   "source": []
  },
  {
   "cell_type": "code",
   "execution_count": null,
   "id": "ccaef694",
   "metadata": {},
   "outputs": [],
   "source": []
  },
  {
   "cell_type": "code",
   "execution_count": 9,
   "id": "3a4227b8",
   "metadata": {},
   "outputs": [
    {
     "name": "stderr",
     "output_type": "stream",
     "text": [
      "[ WARN:0@132.955] global loadsave.cpp:244 findDecoder imread_('blurred_images/train/images/hurricane-harvey_00000015_pre_disaster_salt_pepper.png'): can't open/read file: check file path/integrity\n",
      "[ WARN:0@132.955] global loadsave.cpp:244 findDecoder imread_('blurred_images/train/targets/hurricane-harvey_00000015_pre_disaster_target_salt_pepper.png'): can't open/read file: check file path/integrity\n"
     ]
    },
    {
     "ename": "AttributeError",
     "evalue": "'NoneType' object has no attribute 'shape'",
     "output_type": "error",
     "traceback": [
      "\u001b[0;31m---------------------------------------------------------------------------\u001b[0m",
      "\u001b[0;31mAttributeError\u001b[0m                            Traceback (most recent call last)",
      "Cell \u001b[0;32mIn[9], line 9\u001b[0m\n\u001b[1;32m      6\u001b[0m pre_image \u001b[38;5;241m=\u001b[39m cv2\u001b[38;5;241m.\u001b[39mimread(pre_image_path)\n\u001b[1;32m      7\u001b[0m target \u001b[38;5;241m=\u001b[39m cv2\u001b[38;5;241m.\u001b[39mimread(target_path, cv2\u001b[38;5;241m.\u001b[39mIMREAD_GRAYSCALE)\n\u001b[0;32m----> 9\u001b[0m \u001b[38;5;28mprint\u001b[39m(\u001b[38;5;124m\"\u001b[39m\u001b[38;5;124mThe Image Shape : \u001b[39m\u001b[38;5;132;01m{}\u001b[39;00m\u001b[38;5;124m and target Shape : \u001b[39m\u001b[38;5;132;01m{}\u001b[39;00m\u001b[38;5;124m\"\u001b[39m\u001b[38;5;241m.\u001b[39mformat(\u001b[43mpre_image\u001b[49m\u001b[38;5;241;43m.\u001b[39;49m\u001b[43mshape\u001b[49m,target\u001b[38;5;241m.\u001b[39mshape))\n\u001b[1;32m     11\u001b[0m original_segmented_image \u001b[38;5;241m=\u001b[39m cv2\u001b[38;5;241m.\u001b[39mbitwise_and(pre_image, pre_image, mask\u001b[38;5;241m=\u001b[39mtarget)\n\u001b[1;32m     13\u001b[0m \u001b[38;5;28mprint\u001b[39m(\u001b[38;5;124m\"\u001b[39m\u001b[38;5;124mThe shape of Original segmented Image :\u001b[39m\u001b[38;5;132;01m{}\u001b[39;00m\u001b[38;5;124m\"\u001b[39m\u001b[38;5;241m.\u001b[39mformat(original_segmented_image\u001b[38;5;241m.\u001b[39mshape))\n",
      "\u001b[0;31mAttributeError\u001b[0m: 'NoneType' object has no attribute 'shape'"
     ]
    }
   ],
   "source": [
    "import cv2\n",
    "pre_image_path = 'blurred_images/train/images/hurricane-harvey_00000015_pre_disaster_salt_pepper.png'\n",
    "target_path = 'blurred_images/train/targets/hurricane-harvey_00000015_pre_disaster_target_salt_pepper.png'\n",
    "original_target_path = 'train/targets/hurricane-harvey_00000015_pre_disaster_target.png'\n",
    "\n",
    "pre_image = cv2.imread(pre_image_path)\n",
    "target = cv2.imread(target_path, cv2.IMREAD_GRAYSCALE)\n",
    "\n",
    "print(\"The Image Shape : {} and target Shape : {}\".format(pre_image.shape,target.shape))\n",
    "\n",
    "original_segmented_image = cv2.bitwise_and(pre_image, pre_image, mask=target)\n",
    "\n",
    "print(\"The shape of Original segmented Image :{}\".format(original_segmented_image.shape))\n",
    "\n",
    "\n",
    "# Display the images and target mask for visualization (optional)\n",
    "cv2.imshow('Pre-disaster Image', pre_image)\n",
    "cv2.imshow('Target Mask', target)\n",
    "cv2.imshow('Filtered Segmented Image', original_segmented_image)\n",
    "cv2.imshow('Original Segmented Image', cv2.bitwise_and(pre_image, pre_image, \n",
    "                                                       mask=cv2.imread(original_target_path, cv2.IMREAD_GRAYSCALE)))\n",
    "\n",
    "cv2.waitKey(0)\n",
    "cv2.destroyAllWindows()\n",
    "cv2.waitKey(1)"
   ]
  },
  {
   "cell_type": "code",
   "execution_count": null,
   "id": "ab4bc799",
   "metadata": {},
   "outputs": [],
   "source": [
    "\n",
    "\n"
   ]
  },
  {
   "cell_type": "code",
   "execution_count": null,
   "id": "809f9960",
   "metadata": {},
   "outputs": [],
   "source": []
  },
  {
   "cell_type": "code",
   "execution_count": null,
   "id": "1d8ef9f8",
   "metadata": {},
   "outputs": [],
   "source": []
  }
 ],
 "metadata": {
  "kernelspec": {
   "display_name": "Python 3 (ipykernel)",
   "language": "python",
   "name": "python3"
  },
  "language_info": {
   "codemirror_mode": {
    "name": "ipython",
    "version": 3
   },
   "file_extension": ".py",
   "mimetype": "text/x-python",
   "name": "python",
   "nbconvert_exporter": "python",
   "pygments_lexer": "ipython3",
   "version": "3.9.6"
  }
 },
 "nbformat": 4,
 "nbformat_minor": 5
}
