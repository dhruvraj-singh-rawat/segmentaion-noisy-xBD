{
 "cells": [
  {
   "cell_type": "markdown",
   "id": "df632e2a",
   "metadata": {},
   "source": [
    "# Config"
   ]
  },
  {
   "cell_type": "code",
   "execution_count": 88,
   "id": "1bd098aa",
   "metadata": {},
   "outputs": [
    {
     "name": "stderr",
     "output_type": "stream",
     "text": [
      "/var/folders/3y/1js5b25s1b1dk8g7drn7_g8h0000gn/T/ipykernel_9663/4065838880.py:14: DeprecationWarning: Please use `generic_filter` from the `scipy.ndimage` namespace, the `scipy.ndimage.filters` namespace is deprecated.\n",
      "  from scipy.ndimage.filters import generic_filter\n"
     ]
    }
   ],
   "source": [
    "import os\n",
    "os.environ[\"SM_FRAMEWORK\"] = \"tf.keras\"\n",
    "import segmentation_models as sm\n",
    "import tensorflow as tf\n",
    "from focal_loss import BinaryFocalLoss,sparse_categorical_focal_loss\n",
    "\n",
    "import os\n",
    "import cv2\n",
    "import numpy as np \n",
    "import random\n",
    "import numpy as np\n",
    "from PIL import Image\n",
    "\n",
    "from scipy.ndimage.filters import generic_filter\n",
    "\n",
    "# Input Image Dir\n",
    "image_dir = \"train/images/\"\n",
    "image_target_dir = \"train/targets/\"\n",
    "\n",
    "# Output Dir\n",
    "output_image_dir = \"blurred_images/train/images/\"\n",
    "output_target_dir = \"blurred_images/train/targets/\"\n",
    "\n",
    "# Noise Parameters \n",
    "\n",
    "gaussian_stddev = 0.35\n",
    "salt_pepper_probability = 0.002\n",
    "\n",
    "# Majority Filter Parameters \n",
    "\n",
    "perform_majority_filtering = 1\n",
    "neighborhood_size = (3, 3)  # 3x3 neighborhood\n",
    "threshold = 8  # Threshold value"
   ]
  },
  {
   "cell_type": "markdown",
   "id": "7da1fc55",
   "metadata": {},
   "source": [
    "## Visualize Noisy Images"
   ]
  },
  {
   "cell_type": "code",
   "execution_count": 90,
   "id": "83b92a92",
   "metadata": {},
   "outputs": [
    {
     "data": {
      "text/plain": [
       "-1"
      ]
     },
     "execution_count": 90,
     "metadata": {},
     "output_type": "execute_result"
    }
   ],
   "source": [
    "# List all image files in the directory\n",
    "image_files = [f for f in os.listdir(image_dir) if f.endswith((\".jpg\", \".jpeg\", \".png\"))]\n",
    "\n",
    "indx = random.randint(0, len(image_files))\n",
    "image_file = image_files[indx]\n",
    "\n",
    "\n",
    "# Read the image\n",
    "image_path = os.path.join(image_dir, image_file)\n",
    "image = cv2.imread(image_path)\n",
    " \n",
    "# Add Gaussian noise\n",
    "mean = 0\n",
    "stddev = gaussian_stddev\n",
    "gaussian_noise = np.random.normal(mean, stddev, image.shape).astype(np.uint8)\n",
    "noisy_image_gaussian = cv2.add(image, gaussian_noise)\n",
    "\n",
    "# Add salt and pepper noise\n",
    "salt_pepper_noise = np.zeros(image.shape, np.uint8)\n",
    "probability = salt_pepper_probability\n",
    "salt = np.where(np.random.rand(*image.shape[:2]) < probability)\n",
    "pepper = np.where(np.random.rand(*image.shape[:2]) < probability)\n",
    "salt_pepper_noise[salt] = 255\n",
    "salt_pepper_noise[pepper] = 0\n",
    "noisy_image_salt_pepper = cv2.add(image, salt_pepper_noise)\n",
    "\n",
    "cv2.imshow(\"Original Image\", image)\n",
    "cv2.imshow(\"Noisy Image (Salt&Pepper)\", noisy_image_salt_pepper)\n",
    "cv2.imshow(\"Noisy Image (Gaussian)\", noisy_image_gaussian)\n",
    "\n",
    "cv2.waitKey(0)\n",
    "cv2.destroyAllWindows()\n",
    "cv2.waitKey(1)\n"
   ]
  },
  {
   "cell_type": "markdown",
   "id": "1aeb4c5d",
   "metadata": {},
   "source": [
    "## Defining Basic Functions "
   ]
  },
  {
   "cell_type": "code",
   "execution_count": 94,
   "id": "03dbbfc0",
   "metadata": {},
   "outputs": [],
   "source": [
    "def majority_filter(mask, neighborhood_size, threshold):\n",
    "    def majority_value(arr):\n",
    "        unique_classes, counts = np.unique(arr, return_counts=True, axis=0)\n",
    "        max_count = np.max(counts)\n",
    "        if max_count >= threshold:  # Check if the max count crosses the threshold\n",
    "            majority_class = unique_classes[np.argmax(counts)]\n",
    "            return majority_class\n",
    "        else:\n",
    "            return arr[int(len(arr)/2)]  # Keep the original value\n",
    "\n",
    "    filtered_mask = np.zeros_like(mask)\n",
    "\n",
    "    for channel in range(mask.shape[2]):\n",
    "        channel_filtered = generic_filter(mask[:, :, channel], majority_value, size=neighborhood_size)\n",
    "        filtered_mask[:, :, channel] = channel_filtered\n",
    "\n",
    "    return filtered_mask\n",
    "\n",
    "def bin_images(image):\n",
    "    # Convert pixel values less than 2 to 0 and values greater than or equal to 2 to 1\n",
    "    image[image < 2] = 0\n",
    "    image[image >= 2] = 1\n",
    "    \n",
    "    return image\n",
    "    \n",
    "    \n",
    "def generate_noisy_images(input_dir,image_target_dir,\n",
    "                          output_image_dir,output_target_dir,\n",
    "                          gaussian_stddev,salt_pepper_probability,\n",
    "                         perform_majority_filtering,\n",
    "                         bin_mask = False,\n",
    "                         early_stopping = False):\n",
    "\n",
    "    # Create separate folders for different types of noise\n",
    "    output_dir_image = os.path.join('', output_image_dir)\n",
    "    output_dir_mask = os.path.join('', output_target_dir)\n",
    "\n",
    "\n",
    "    os.makedirs(output_dir_image, exist_ok=True)\n",
    "    os.makedirs(output_dir_mask, exist_ok=True)\n",
    "\n",
    "\n",
    "    # List all image files in the directory\n",
    "    image_files = [f for f in os.listdir(input_dir) if f.endswith((\".jpg\", \".jpeg\", \".png\"))]\n",
    "\n",
    "    for image_file in image_files:\n",
    "        # Read the image\n",
    "        image_path = os.path.join(image_dir, image_file)\n",
    "        image = cv2.imread(image_path)\n",
    "        \n",
    "        # Read Mask\n",
    "        image_mask_path = os.path.join(image_target_dir, image_file[:-4] + '_target.png')\n",
    "        mask = cv2.imread(image_mask_path)\n",
    "        #mask = Image.open(image_mask_path)\n",
    "        if bin_mask:\n",
    "            mask = bin_images(mask)\n",
    "        \n",
    "        if perform_majority_filtering:\n",
    "            mask = majority_filter(mask, neighborhood_size, threshold)\n",
    "        \n",
    "\n",
    "        # Add Gaussian noise\n",
    "        mean = 0\n",
    "        stddev = gaussian_stddev\n",
    "        gaussian_noise = np.random.normal(mean, stddev, image.shape).astype(np.uint8)\n",
    "        noisy_image_gaussian = cv2.add(image, gaussian_noise)\n",
    "\n",
    "        # Add salt and pepper noise\n",
    "        salt_pepper_noise = np.zeros(image.shape, np.uint8)\n",
    "        probability = salt_pepper_probability\n",
    "        salt = np.where(np.random.rand(*image.shape[:2]) < probability)\n",
    "        pepper = np.where(np.random.rand(*image.shape[:2]) < probability)\n",
    "        salt_pepper_noise[salt] = 255\n",
    "        salt_pepper_noise[pepper] = 0\n",
    "        noisy_image_salt_pepper = cv2.add(image, salt_pepper_noise)\n",
    "\n",
    "\n",
    "\n",
    "        # Save the noisy images in separate folders\n",
    "        output_path_gaussian = os.path.join(output_dir_image, image_file[:-4]+'_gaussian'+image_file[-4:])\n",
    "        output_path_salt_pepper = os.path.join(output_dir_image, image_file[:-4]+'_salt_pepper'+image_file[-4:])\n",
    "        output_path_original = os.path.join(output_dir_image, image_file)\n",
    "        \n",
    "        # Mask for different Noise\n",
    "        output_path_gaussian_mask = os.path.join(output_dir_mask, image_file[:-4]+'_gaussian_target'+image_file[-4:])\n",
    "        output_path_salt_pepper_mask = os.path.join(output_dir_mask, image_file[:-4]+'_salt_pepper_target'+image_file[-4:])\n",
    "        output_path_original_mask = os.path.join(output_dir_mask, image_file[:-4]+'_target'+image_file[-4:])\n",
    "        \n",
    "        # Saving\n",
    "        cv2.imwrite(output_path_gaussian, noisy_image_gaussian)\n",
    "        cv2.imwrite(output_path_salt_pepper, noisy_image_salt_pepper)\n",
    "        cv2.imwrite(output_path_original, image)\n",
    "        \n",
    "        cv2.imwrite(output_path_gaussian_mask,mask)\n",
    "        cv2.imwrite(output_path_salt_pepper_mask,mask)\n",
    "        cv2.imwrite(output_path_original_mask,mask)\n",
    "#         mask.save(output_path_gaussian_mask)\n",
    "#         mask.save(output_path_salt_pepper_mask)\n",
    "#         mask.save(output_path_original_mask)\n",
    "        \n",
    "        if early_stopping:\n",
    "            break\n",
    "\n",
    "    print(\"Noisy images saved.\")\n",
    "\n",
    "\n",
    "def load_data(data_dir, resize=False):\n",
    "    # Set the paths to the directories containing the dataset\n",
    "    images_dir = os.path.join(data_dir, 'images')\n",
    "    labels_dir = os.path.join(data_dir, 'targets')\n",
    "\n",
    "    \n",
    "    # Set the input image dimensions\n",
    "    input_shape = (128, 128, 3)  # Adjust as needed\n",
    "\n",
    "    # Get the list of image filenames\n",
    "    image_filenames = os.listdir(images_dir)\n",
    "\n",
    "    # Batch size for loading images\n",
    "    batch_size = 32\n",
    "\n",
    "    # Prepare the data for training\n",
    "    X_train = []\n",
    "    y_train = []\n",
    "\n",
    "    # Process images in batches\n",
    "    for i in range(0, len(image_filenames), batch_size):\n",
    "        batch_filenames = image_filenames[i:i + batch_size]\n",
    "        batch_X = []\n",
    "        batch_y = []\n",
    "\n",
    "        for filename in batch_filenames:\n",
    "            # Load pre and post-disaster images\n",
    "            pre_image_path = os.path.join(images_dir, filename)\n",
    "            pre_image = cv2.imread(pre_image_path)\n",
    "\n",
    "            # Load the corresponding label\n",
    "            label_filename = filename[:-4] + '_target.png'\n",
    "            label_path = os.path.join(labels_dir, label_filename)\n",
    "            label = cv2.imread(label_path, cv2.IMREAD_GRAYSCALE)\n",
    "\n",
    "            if resize:\n",
    "                # Resize the images to the desired shape\n",
    "                pre_image = cv2.resize(pre_image, (input_shape[0], input_shape[1]))\n",
    "                label = cv2.resize(label, (input_shape[0], input_shape[1]))\n",
    "\n",
    "            # Add the data to the batch\n",
    "            batch_X.append(pre_image)\n",
    "            batch_y.append(label)\n",
    "\n",
    "        # Convert the batch lists to numpy arrays\n",
    "        batch_X = np.array(batch_X)\n",
    "        print(len(batch_y))\n",
    "\n",
    "        # Check if all labels in the batch have the same shape\n",
    "        label_shapes = set([label.shape for label in batch_y])\n",
    "        if len(label_shapes) > 1:\n",
    "            raise ValueError(\"Labels in the batch have different shapes.\")\n",
    "\n",
    "        batch_y = np.array(batch_y)\n",
    "\n",
    "        # Add the batch data to the training set\n",
    "        X_train.append(batch_X)\n",
    "        y_train.append(batch_y)\n",
    "\n",
    "    # Concatenate the batches to obtain the final training data\n",
    "    X_train = np.concatenate(X_train)\n",
    "    y_train = np.concatenate(y_train)\n",
    "\n",
    "    return X_train, y_train\n",
    "\n",
    "\n"
   ]
  },
  {
   "cell_type": "code",
   "execution_count": 97,
   "id": "33a74ba2",
   "metadata": {},
   "outputs": [
    {
     "name": "stdout",
     "output_type": "stream",
     "text": [
      "Noisy images saved.\n"
     ]
    }
   ],
   "source": [
    "# Generate Noisy Image Dataset - Skip of Already Created \n",
    "\n",
    "generate_noisy_images(image_dir,image_target_dir,\n",
    "                      output_image_dir,output_target_dir,\n",
    "                      gaussian_stddev,salt_pepper_probability,\n",
    "                     perform_majority_filtering = 0 ,\n",
    "                     bin_mask = True,\n",
    "                     early_stopping = False)\n"
   ]
  },
  {
   "cell_type": "code",
   "execution_count": null,
   "id": "ced88f59",
   "metadata": {},
   "outputs": [],
   "source": [
    "# output_target_dir = \"train/targets/\"\n",
    "# output_dir_mask = os.path.join('', output_target_dir)\n",
    "\n",
    "# # List all image files in the directory\n",
    "# image_files = [f for f in os.listdir(output_dir_mask) if f.endswith((\".jpg\", \".jpeg\", \".png\"))]\n",
    "\n",
    "# max_pixels = 0\n",
    "# max_image_path = ''\n",
    "\n",
    "# for image_file in image_files:\n",
    "#     # Read the image\n",
    "#     image_path = os.path.join(output_dir_mask, image_file)\n",
    "#     image = cv2.imread(image_path, cv2.IMREAD_GRAYSCALE)\n",
    "\n",
    "#     # Count the pixels with value 2 and above\n",
    "#     count = np.sum(image >= 2)\n",
    "\n",
    "#     # Update the maximum pixel count and image path if necessary\n",
    "#     if count > max_pixels:\n",
    "#         max_pixels = count\n",
    "#         max_image_path = image_path\n",
    "\n",
    "# print(\"Image with the maximum number of pixels (value >= 2):\", max_image_path)\n",
    "\n",
    "## --- >train/targets/palu-tsunami_00000118_post_disaster_target.png\n",
    "\n",
    "\n",
    "# Read the image\n",
    "def bin_images(image):\n",
    "    # Convert pixel values less than 2 to 0 and values greater than or equal to 2 to 1\n",
    "    image[image < 2] = 0\n",
    "    image[image >= 2] = 1\n",
    "    \n",
    "    return image\n",
    "\n",
    "image = cv2.imread('train/images/palu-tsunami_00000118_post_disaster.png')\n",
    "image_mask = cv2.imread('train/targets/palu-tsunami_00000118_post_disaster_target.png',cv2.IMREAD_GRAYSCALE)\n",
    "binned_mask = bin_images(image_mask)\n",
    "\n",
    "\n",
    "cv2.imshow(\"Original Image\", image)\n",
    "cv2.imshow(\"Original Segment\", cv2.bitwise_and(image, image, mask=image_mask))\n",
    "cv2.imshow(\"Binned Segment\", cv2.bitwise_and(image, image, mask=binned_mask))\n",
    "\n",
    "cv2.waitKey(0)\n",
    "cv2.destroyAllWindows()\n",
    "cv2.waitKey(1)\n",
    "\n",
    "\n"
   ]
  },
  {
   "cell_type": "code",
   "execution_count": 84,
   "id": "c2f6bc14",
   "metadata": {},
   "outputs": [
    {
     "data": {
      "text/plain": [
       "array([0, 1, 3, 4], dtype=uint8)"
      ]
     },
     "execution_count": 84,
     "metadata": {},
     "output_type": "execute_result"
    }
   ],
   "source": [
    "np.unique(cv2.imread('train/targets/palu-tsunami_00000118_post_disaster_target.png'))"
   ]
  },
  {
   "cell_type": "code",
   "execution_count": 85,
   "id": "b935c8a3",
   "metadata": {},
   "outputs": [
    {
     "data": {
      "text/plain": [
       "array([0, 1, 3, 4], dtype=uint8)"
      ]
     },
     "execution_count": 85,
     "metadata": {},
     "output_type": "execute_result"
    }
   ],
   "source": [
    "np.unique(cv2.imread('train/targets/palu-tsunami_00000118_post_disaster_target.png',cv2.IMREAD_GRAYSCALE))"
   ]
  },
  {
   "cell_type": "code",
   "execution_count": 87,
   "id": "65bb633a",
   "metadata": {},
   "outputs": [
    {
     "data": {
      "text/plain": [
       "array([0, 1], dtype=uint8)"
      ]
     },
     "execution_count": 87,
     "metadata": {},
     "output_type": "execute_result"
    }
   ],
   "source": [
    "np.unique(binned_mask)"
   ]
  },
  {
   "cell_type": "code",
   "execution_count": 46,
   "id": "e6c03b84",
   "metadata": {},
   "outputs": [
    {
     "name": "stdout",
     "output_type": "stream",
     "text": [
      "3\n"
     ]
    }
   ],
   "source": [
    "BACKBONE = 'resnet50'\n",
    "\n",
    "(X,y) = load_data('blurred_images/train',resize = False)\n",
    "\n",
    "from keras.utils import normalize\n",
    "from segmentation_models import get_preprocessing\n",
    "from sklearn.model_selection import train_test_split\n",
    "\n",
    "\n",
    "y = np.expand_dims(y, axis=3)\n",
    "\n",
    "n_classes = 5\n",
    "\n",
    "from keras.utils import to_categorical\n",
    "train_masks_cat = to_categorical(y, num_classes=n_classes)\n",
    "y_train_cat = train_masks_cat.reshape((y.shape[0], y.shape[1], y.shape[2], n_classes))\n",
    "\n",
    "X_train, X_val, y_train, y_val  = train_test_split(X, y_train_cat, test_size=0.1, random_state=1)\n"
   ]
  },
  {
   "cell_type": "markdown",
   "id": "93dc281c",
   "metadata": {},
   "source": [
    "## Training Model "
   ]
  },
  {
   "cell_type": "code",
   "execution_count": 52,
   "id": "67d30b6c",
   "metadata": {},
   "outputs": [
    {
     "name": "stdout",
     "output_type": "stream",
     "text": [
      "WARNING:tensorflow:`period` argument is deprecated. Please use `save_freq` to specify the frequency in number of batches seen.\n",
      "Epoch 1/10\n"
     ]
    },
    {
     "name": "stderr",
     "output_type": "stream",
     "text": [
      "2023-06-25 14:25:45.799468: I tensorflow/core/grappler/optimizers/custom_graph_optimizer_registry.cc:114] Plugin optimizer for device_type GPU is enabled.\n"
     ]
    },
    {
     "name": "stdout",
     "output_type": "stream",
     "text": [
      "\r",
      "1/1 [==============================] - ETA: 0s - loss: 1.5324 - iou_score: 0.1159"
     ]
    },
    {
     "name": "stderr",
     "output_type": "stream",
     "text": [
      "2023-06-25 14:25:53.667198: I tensorflow/core/grappler/optimizers/custom_graph_optimizer_registry.cc:114] Plugin optimizer for device_type GPU is enabled.\n"
     ]
    },
    {
     "name": "stdout",
     "output_type": "stream",
     "text": [
      "\n",
      "Epoch 1: saving model to training_weights/resnet50\n",
      "1/1 [==============================] - 11s 11s/step - loss: 1.5324 - iou_score: 0.1159 - val_loss: 1.5516 - val_iou_score: 0.1259\n",
      "Epoch 2/10\n",
      "1/1 [==============================] - ETA: 0s - loss: 1.4740 - iou_score: 0.1267\n",
      "Epoch 2: saving model to training_weights/resnet50\n",
      "1/1 [==============================] - 8s 8s/step - loss: 1.4740 - iou_score: 0.1267 - val_loss: 1.3631 - val_iou_score: 0.1557\n",
      "Epoch 3/10\n",
      "1/1 [==============================] - ETA: 0s - loss: 1.4187 - iou_score: 0.1421\n",
      "Epoch 3: saving model to training_weights/resnet50\n"
     ]
    },
    {
     "ename": "KeyboardInterrupt",
     "evalue": "",
     "output_type": "error",
     "traceback": [
      "\u001b[0;31m---------------------------------------------------------------------------\u001b[0m",
      "\u001b[0;31mKeyboardInterrupt\u001b[0m                         Traceback (most recent call last)",
      "Cell \u001b[0;32mIn[52], line 32\u001b[0m\n\u001b[1;32m     28\u001b[0m     model\u001b[38;5;241m.\u001b[39mload_weights(weights)\n\u001b[1;32m     31\u001b[0m \u001b[38;5;66;03m# Train the model\u001b[39;00m\n\u001b[0;32m---> 32\u001b[0m history \u001b[38;5;241m=\u001b[39m \u001b[43mmodel\u001b[49m\u001b[38;5;241;43m.\u001b[39;49m\u001b[43mfit\u001b[49m\u001b[43m(\u001b[49m\u001b[43mX_train\u001b[49m\u001b[43m,\u001b[49m\u001b[43m \u001b[49m\u001b[43my_train\u001b[49m\u001b[43m,\u001b[49m\u001b[43m \u001b[49m\u001b[43mepochs\u001b[49m\u001b[38;5;241;43m=\u001b[39;49m\u001b[38;5;241;43m10\u001b[39;49m\u001b[43m,\u001b[49m\u001b[43m \u001b[49m\u001b[43mbatch_size\u001b[49m\u001b[38;5;241;43m=\u001b[39;49m\u001b[38;5;241;43m32\u001b[39;49m\u001b[43m,\u001b[49m\n\u001b[1;32m     33\u001b[0m \u001b[43m                    \u001b[49m\u001b[43mvalidation_data\u001b[49m\u001b[38;5;241;43m=\u001b[39;49m\u001b[43m(\u001b[49m\u001b[43mX_val\u001b[49m\u001b[43m,\u001b[49m\u001b[43m \u001b[49m\u001b[43my_val\u001b[49m\u001b[43m)\u001b[49m\u001b[43m,\u001b[49m\n\u001b[1;32m     34\u001b[0m \u001b[43m                        \u001b[49m\u001b[43mcallbacks\u001b[49m\u001b[38;5;241;43m=\u001b[39;49m\u001b[43m[\u001b[49m\u001b[43mearly_stopping_cb\u001b[49m\u001b[43m,\u001b[49m\u001b[43mcp_save_weight\u001b[49m\u001b[43m]\u001b[49m\u001b[43m)\u001b[49m\n",
      "File \u001b[0;32m~/venv-metal/lib/python3.9/site-packages/keras/src/utils/traceback_utils.py:65\u001b[0m, in \u001b[0;36mfilter_traceback.<locals>.error_handler\u001b[0;34m(*args, **kwargs)\u001b[0m\n\u001b[1;32m     63\u001b[0m filtered_tb \u001b[38;5;241m=\u001b[39m \u001b[38;5;28;01mNone\u001b[39;00m\n\u001b[1;32m     64\u001b[0m \u001b[38;5;28;01mtry\u001b[39;00m:\n\u001b[0;32m---> 65\u001b[0m     \u001b[38;5;28;01mreturn\u001b[39;00m \u001b[43mfn\u001b[49m\u001b[43m(\u001b[49m\u001b[38;5;241;43m*\u001b[39;49m\u001b[43margs\u001b[49m\u001b[43m,\u001b[49m\u001b[43m \u001b[49m\u001b[38;5;241;43m*\u001b[39;49m\u001b[38;5;241;43m*\u001b[39;49m\u001b[43mkwargs\u001b[49m\u001b[43m)\u001b[49m\n\u001b[1;32m     66\u001b[0m \u001b[38;5;28;01mexcept\u001b[39;00m \u001b[38;5;167;01mException\u001b[39;00m \u001b[38;5;28;01mas\u001b[39;00m e:\n\u001b[1;32m     67\u001b[0m     filtered_tb \u001b[38;5;241m=\u001b[39m _process_traceback_frames(e\u001b[38;5;241m.\u001b[39m__traceback__)\n",
      "File \u001b[0;32m~/venv-metal/lib/python3.9/site-packages/keras/src/engine/training.py:1809\u001b[0m, in \u001b[0;36mModel.fit\u001b[0;34m(self, x, y, batch_size, epochs, verbose, callbacks, validation_split, validation_data, shuffle, class_weight, sample_weight, initial_epoch, steps_per_epoch, validation_steps, validation_batch_size, validation_freq, max_queue_size, workers, use_multiprocessing)\u001b[0m\n\u001b[1;32m   1804\u001b[0m     val_logs \u001b[38;5;241m=\u001b[39m {\n\u001b[1;32m   1805\u001b[0m         \u001b[38;5;124m\"\u001b[39m\u001b[38;5;124mval_\u001b[39m\u001b[38;5;124m\"\u001b[39m \u001b[38;5;241m+\u001b[39m name: val \u001b[38;5;28;01mfor\u001b[39;00m name, val \u001b[38;5;129;01min\u001b[39;00m val_logs\u001b[38;5;241m.\u001b[39mitems()\n\u001b[1;32m   1806\u001b[0m     }\n\u001b[1;32m   1807\u001b[0m     epoch_logs\u001b[38;5;241m.\u001b[39mupdate(val_logs)\n\u001b[0;32m-> 1809\u001b[0m \u001b[43mcallbacks\u001b[49m\u001b[38;5;241;43m.\u001b[39;49m\u001b[43mon_epoch_end\u001b[49m\u001b[43m(\u001b[49m\u001b[43mepoch\u001b[49m\u001b[43m,\u001b[49m\u001b[43m \u001b[49m\u001b[43mepoch_logs\u001b[49m\u001b[43m)\u001b[49m\n\u001b[1;32m   1810\u001b[0m training_logs \u001b[38;5;241m=\u001b[39m epoch_logs\n\u001b[1;32m   1811\u001b[0m \u001b[38;5;28;01mif\u001b[39;00m \u001b[38;5;28mself\u001b[39m\u001b[38;5;241m.\u001b[39mstop_training:\n",
      "File \u001b[0;32m~/venv-metal/lib/python3.9/site-packages/keras/src/callbacks.py:453\u001b[0m, in \u001b[0;36mCallbackList.on_epoch_end\u001b[0;34m(self, epoch, logs)\u001b[0m\n\u001b[1;32m    451\u001b[0m logs \u001b[38;5;241m=\u001b[39m \u001b[38;5;28mself\u001b[39m\u001b[38;5;241m.\u001b[39m_process_logs(logs)\n\u001b[1;32m    452\u001b[0m \u001b[38;5;28;01mfor\u001b[39;00m callback \u001b[38;5;129;01min\u001b[39;00m \u001b[38;5;28mself\u001b[39m\u001b[38;5;241m.\u001b[39mcallbacks:\n\u001b[0;32m--> 453\u001b[0m     \u001b[43mcallback\u001b[49m\u001b[38;5;241;43m.\u001b[39;49m\u001b[43mon_epoch_end\u001b[49m\u001b[43m(\u001b[49m\u001b[43mepoch\u001b[49m\u001b[43m,\u001b[49m\u001b[43m \u001b[49m\u001b[43mlogs\u001b[49m\u001b[43m)\u001b[49m\n",
      "File \u001b[0;32m~/venv-metal/lib/python3.9/site-packages/keras/src/callbacks.py:1483\u001b[0m, in \u001b[0;36mModelCheckpoint.on_epoch_end\u001b[0;34m(self, epoch, logs)\u001b[0m\n\u001b[1;32m   1480\u001b[0m \u001b[38;5;28mself\u001b[39m\u001b[38;5;241m.\u001b[39mepochs_since_last_save \u001b[38;5;241m+\u001b[39m\u001b[38;5;241m=\u001b[39m \u001b[38;5;241m1\u001b[39m\n\u001b[1;32m   1482\u001b[0m \u001b[38;5;28;01mif\u001b[39;00m \u001b[38;5;28mself\u001b[39m\u001b[38;5;241m.\u001b[39msave_freq \u001b[38;5;241m==\u001b[39m \u001b[38;5;124m\"\u001b[39m\u001b[38;5;124mepoch\u001b[39m\u001b[38;5;124m\"\u001b[39m:\n\u001b[0;32m-> 1483\u001b[0m     \u001b[38;5;28;43mself\u001b[39;49m\u001b[38;5;241;43m.\u001b[39;49m\u001b[43m_save_model\u001b[49m\u001b[43m(\u001b[49m\u001b[43mepoch\u001b[49m\u001b[38;5;241;43m=\u001b[39;49m\u001b[43mepoch\u001b[49m\u001b[43m,\u001b[49m\u001b[43m \u001b[49m\u001b[43mbatch\u001b[49m\u001b[38;5;241;43m=\u001b[39;49m\u001b[38;5;28;43;01mNone\u001b[39;49;00m\u001b[43m,\u001b[49m\u001b[43m \u001b[49m\u001b[43mlogs\u001b[49m\u001b[38;5;241;43m=\u001b[39;49m\u001b[43mlogs\u001b[49m\u001b[43m)\u001b[49m\n",
      "File \u001b[0;32m~/venv-metal/lib/python3.9/site-packages/keras/src/callbacks.py:1571\u001b[0m, in \u001b[0;36mModelCheckpoint._save_model\u001b[0;34m(self, epoch, batch, logs)\u001b[0m\n\u001b[1;32m   1567\u001b[0m     io_utils\u001b[38;5;241m.\u001b[39mprint_msg(\n\u001b[1;32m   1568\u001b[0m         \u001b[38;5;124mf\u001b[39m\u001b[38;5;124m\"\u001b[39m\u001b[38;5;130;01m\\n\u001b[39;00m\u001b[38;5;124mEpoch \u001b[39m\u001b[38;5;132;01m{\u001b[39;00mepoch\u001b[38;5;250m \u001b[39m\u001b[38;5;241m+\u001b[39m\u001b[38;5;250m \u001b[39m\u001b[38;5;241m1\u001b[39m\u001b[38;5;132;01m}\u001b[39;00m\u001b[38;5;124m: saving model to \u001b[39m\u001b[38;5;132;01m{\u001b[39;00mfilepath\u001b[38;5;132;01m}\u001b[39;00m\u001b[38;5;124m\"\u001b[39m\n\u001b[1;32m   1569\u001b[0m     )\n\u001b[1;32m   1570\u001b[0m \u001b[38;5;28;01mif\u001b[39;00m \u001b[38;5;28mself\u001b[39m\u001b[38;5;241m.\u001b[39msave_weights_only:\n\u001b[0;32m-> 1571\u001b[0m     \u001b[38;5;28;43mself\u001b[39;49m\u001b[38;5;241;43m.\u001b[39;49m\u001b[43mmodel\u001b[49m\u001b[38;5;241;43m.\u001b[39;49m\u001b[43msave_weights\u001b[49m\u001b[43m(\u001b[49m\n\u001b[1;32m   1572\u001b[0m \u001b[43m        \u001b[49m\u001b[43mfilepath\u001b[49m\u001b[43m,\u001b[49m\u001b[43m \u001b[49m\u001b[43moverwrite\u001b[49m\u001b[38;5;241;43m=\u001b[39;49m\u001b[38;5;28;43;01mTrue\u001b[39;49;00m\u001b[43m,\u001b[49m\u001b[43m \u001b[49m\u001b[43moptions\u001b[49m\u001b[38;5;241;43m=\u001b[39;49m\u001b[38;5;28;43mself\u001b[39;49m\u001b[38;5;241;43m.\u001b[39;49m\u001b[43m_options\u001b[49m\n\u001b[1;32m   1573\u001b[0m \u001b[43m    \u001b[49m\u001b[43m)\u001b[49m\n\u001b[1;32m   1574\u001b[0m \u001b[38;5;28;01melif\u001b[39;00m filepath\u001b[38;5;241m.\u001b[39mendswith(\u001b[38;5;124m\"\u001b[39m\u001b[38;5;124m.keras\u001b[39m\u001b[38;5;124m\"\u001b[39m):\n\u001b[1;32m   1575\u001b[0m     \u001b[38;5;28mself\u001b[39m\u001b[38;5;241m.\u001b[39mmodel\u001b[38;5;241m.\u001b[39msave(filepath, overwrite\u001b[38;5;241m=\u001b[39m\u001b[38;5;28;01mTrue\u001b[39;00m)\n",
      "File \u001b[0;32m~/venv-metal/lib/python3.9/site-packages/keras/src/utils/traceback_utils.py:65\u001b[0m, in \u001b[0;36mfilter_traceback.<locals>.error_handler\u001b[0;34m(*args, **kwargs)\u001b[0m\n\u001b[1;32m     63\u001b[0m filtered_tb \u001b[38;5;241m=\u001b[39m \u001b[38;5;28;01mNone\u001b[39;00m\n\u001b[1;32m     64\u001b[0m \u001b[38;5;28;01mtry\u001b[39;00m:\n\u001b[0;32m---> 65\u001b[0m     \u001b[38;5;28;01mreturn\u001b[39;00m \u001b[43mfn\u001b[49m\u001b[43m(\u001b[49m\u001b[38;5;241;43m*\u001b[39;49m\u001b[43margs\u001b[49m\u001b[43m,\u001b[49m\u001b[43m \u001b[49m\u001b[38;5;241;43m*\u001b[39;49m\u001b[38;5;241;43m*\u001b[39;49m\u001b[43mkwargs\u001b[49m\u001b[43m)\u001b[49m\n\u001b[1;32m     66\u001b[0m \u001b[38;5;28;01mexcept\u001b[39;00m \u001b[38;5;167;01mException\u001b[39;00m \u001b[38;5;28;01mas\u001b[39;00m e:\n\u001b[1;32m     67\u001b[0m     filtered_tb \u001b[38;5;241m=\u001b[39m _process_traceback_frames(e\u001b[38;5;241m.\u001b[39m__traceback__)\n",
      "File \u001b[0;32m~/venv-metal/lib/python3.9/site-packages/keras/src/engine/training.py:3072\u001b[0m, in \u001b[0;36mModel.save_weights\u001b[0;34m(self, filepath, overwrite, save_format, options)\u001b[0m\n\u001b[1;32m   3008\u001b[0m \u001b[38;5;129m@traceback_utils\u001b[39m\u001b[38;5;241m.\u001b[39mfilter_traceback\n\u001b[1;32m   3009\u001b[0m \u001b[38;5;28;01mdef\u001b[39;00m \u001b[38;5;21msave_weights\u001b[39m(\n\u001b[1;32m   3010\u001b[0m     \u001b[38;5;28mself\u001b[39m, filepath, overwrite\u001b[38;5;241m=\u001b[39m\u001b[38;5;28;01mTrue\u001b[39;00m, save_format\u001b[38;5;241m=\u001b[39m\u001b[38;5;28;01mNone\u001b[39;00m, options\u001b[38;5;241m=\u001b[39m\u001b[38;5;28;01mNone\u001b[39;00m\n\u001b[1;32m   3011\u001b[0m ):\n\u001b[1;32m   3012\u001b[0m \u001b[38;5;250m    \u001b[39m\u001b[38;5;124;03m\"\"\"Saves all layer weights.\u001b[39;00m\n\u001b[1;32m   3013\u001b[0m \n\u001b[1;32m   3014\u001b[0m \u001b[38;5;124;03m    Either saves in HDF5 or in TensorFlow format based on the `save_format`\u001b[39;00m\n\u001b[0;32m   (...)\u001b[0m\n\u001b[1;32m   3070\u001b[0m \u001b[38;5;124;03m            HDF5 format.\u001b[39;00m\n\u001b[1;32m   3071\u001b[0m \u001b[38;5;124;03m    \"\"\"\u001b[39;00m\n\u001b[0;32m-> 3072\u001b[0m     \u001b[43msaving_api\u001b[49m\u001b[38;5;241;43m.\u001b[39;49m\u001b[43msave_weights\u001b[49m\u001b[43m(\u001b[49m\n\u001b[1;32m   3073\u001b[0m \u001b[43m        \u001b[49m\u001b[38;5;28;43mself\u001b[39;49m\u001b[43m,\u001b[49m\n\u001b[1;32m   3074\u001b[0m \u001b[43m        \u001b[49m\u001b[43mfilepath\u001b[49m\u001b[38;5;241;43m=\u001b[39;49m\u001b[43mfilepath\u001b[49m\u001b[43m,\u001b[49m\n\u001b[1;32m   3075\u001b[0m \u001b[43m        \u001b[49m\u001b[43moverwrite\u001b[49m\u001b[38;5;241;43m=\u001b[39;49m\u001b[43moverwrite\u001b[49m\u001b[43m,\u001b[49m\n\u001b[1;32m   3076\u001b[0m \u001b[43m        \u001b[49m\u001b[43msave_format\u001b[49m\u001b[38;5;241;43m=\u001b[39;49m\u001b[43msave_format\u001b[49m\u001b[43m,\u001b[49m\n\u001b[1;32m   3077\u001b[0m \u001b[43m        \u001b[49m\u001b[43moptions\u001b[49m\u001b[38;5;241;43m=\u001b[39;49m\u001b[43moptions\u001b[49m\u001b[43m,\u001b[49m\n\u001b[1;32m   3078\u001b[0m \u001b[43m    \u001b[49m\u001b[43m)\u001b[49m\n",
      "File \u001b[0;32m~/venv-metal/lib/python3.9/site-packages/keras/src/saving/saving_api.py:256\u001b[0m, in \u001b[0;36msave_weights\u001b[0;34m(model, filepath, overwrite, **kwargs)\u001b[0m\n\u001b[1;32m    254\u001b[0m     saving_lib\u001b[38;5;241m.\u001b[39msave_weights_only(model, filepath)\n\u001b[1;32m    255\u001b[0m \u001b[38;5;28;01melse\u001b[39;00m:\n\u001b[0;32m--> 256\u001b[0m     \u001b[43mlegacy_sm_saving_lib\u001b[49m\u001b[38;5;241;43m.\u001b[39;49m\u001b[43msave_weights\u001b[49m\u001b[43m(\u001b[49m\n\u001b[1;32m    257\u001b[0m \u001b[43m        \u001b[49m\u001b[43mmodel\u001b[49m\u001b[43m,\u001b[49m\u001b[43m \u001b[49m\u001b[43mfilepath\u001b[49m\u001b[43m,\u001b[49m\u001b[43m \u001b[49m\u001b[43moverwrite\u001b[49m\u001b[38;5;241;43m=\u001b[39;49m\u001b[43moverwrite\u001b[49m\u001b[43m,\u001b[49m\u001b[43m \u001b[49m\u001b[38;5;241;43m*\u001b[39;49m\u001b[38;5;241;43m*\u001b[39;49m\u001b[43mkwargs\u001b[49m\n\u001b[1;32m    258\u001b[0m \u001b[43m    \u001b[49m\u001b[43m)\u001b[49m\n",
      "File \u001b[0;32m~/venv-metal/lib/python3.9/site-packages/keras/src/saving/legacy/save.py:375\u001b[0m, in \u001b[0;36msave_weights\u001b[0;34m(model, filepath, overwrite, save_format, options)\u001b[0m\n\u001b[1;32m    372\u001b[0m \u001b[38;5;28;01mif\u001b[39;00m \u001b[38;5;129;01mnot\u001b[39;00m tf\u001b[38;5;241m.\u001b[39mexecuting_eagerly():\n\u001b[1;32m    373\u001b[0m     \u001b[38;5;66;03m# Call `get_session` to initialize any uninitialized variables.\u001b[39;00m\n\u001b[1;32m    374\u001b[0m     backend\u001b[38;5;241m.\u001b[39mget_session()\n\u001b[0;32m--> 375\u001b[0m \u001b[43mmodel\u001b[49m\u001b[38;5;241;43m.\u001b[39;49m\u001b[43m_checkpoint\u001b[49m\u001b[38;5;241;43m.\u001b[39;49m\u001b[43mwrite\u001b[49m\u001b[43m(\u001b[49m\u001b[43mfilepath\u001b[49m\u001b[43m,\u001b[49m\u001b[43m \u001b[49m\u001b[43moptions\u001b[49m\u001b[38;5;241;43m=\u001b[39;49m\u001b[43moptions\u001b[49m\u001b[43m)\u001b[49m\n\u001b[1;32m    377\u001b[0m \u001b[38;5;66;03m# Record this checkpoint so it's visible from\u001b[39;00m\n\u001b[1;32m    378\u001b[0m \u001b[38;5;66;03m# tf.train.latest_checkpoint.\u001b[39;00m\n\u001b[1;32m    379\u001b[0m tf\u001b[38;5;241m.\u001b[39m__internal__\u001b[38;5;241m.\u001b[39mtrain\u001b[38;5;241m.\u001b[39mupdate_checkpoint_state(\n\u001b[1;32m    380\u001b[0m     save_dir\u001b[38;5;241m=\u001b[39mos\u001b[38;5;241m.\u001b[39mpath\u001b[38;5;241m.\u001b[39mdirname(filepath),\n\u001b[1;32m    381\u001b[0m     model_checkpoint_path\u001b[38;5;241m=\u001b[39mfilepath,\n\u001b[1;32m    382\u001b[0m     save_relative_paths\u001b[38;5;241m=\u001b[39m\u001b[38;5;28;01mTrue\u001b[39;00m,\n\u001b[1;32m    383\u001b[0m     all_model_checkpoint_paths\u001b[38;5;241m=\u001b[39m[filepath],\n\u001b[1;32m    384\u001b[0m )\n",
      "File \u001b[0;32m~/venv-metal/lib/python3.9/site-packages/tensorflow/python/checkpoint/checkpoint.py:2272\u001b[0m, in \u001b[0;36mCheckpoint.write\u001b[0;34m(self, file_prefix, options)\u001b[0m\n\u001b[1;32m   2270\u001b[0m \u001b[38;5;28;01mif\u001b[39;00m \u001b[38;5;28misinstance\u001b[39m(file_prefix, os\u001b[38;5;241m.\u001b[39mPathLike):\n\u001b[1;32m   2271\u001b[0m   file_prefix \u001b[38;5;241m=\u001b[39m os\u001b[38;5;241m.\u001b[39mfspath(file_prefix)\n\u001b[0;32m-> 2272\u001b[0m \u001b[38;5;28;01mreturn\u001b[39;00m \u001b[38;5;28;43mself\u001b[39;49m\u001b[38;5;241;43m.\u001b[39;49m\u001b[43m_write\u001b[49m\u001b[43m(\u001b[49m\u001b[43mfile_prefix\u001b[49m\u001b[43m,\u001b[49m\u001b[43m \u001b[49m\u001b[43moptions\u001b[49m\u001b[43m)\u001b[49m\n",
      "File \u001b[0;32m~/venv-metal/lib/python3.9/site-packages/tensorflow/python/checkpoint/checkpoint.py:2324\u001b[0m, in \u001b[0;36mCheckpoint._write\u001b[0;34m(self, file_prefix, options, write_done_callback)\u001b[0m\n\u001b[1;32m   2322\u001b[0m start_time \u001b[38;5;241m=\u001b[39m time\u001b[38;5;241m.\u001b[39mtime()\n\u001b[1;32m   2323\u001b[0m options \u001b[38;5;241m=\u001b[39m options \u001b[38;5;129;01mor\u001b[39;00m checkpoint_options\u001b[38;5;241m.\u001b[39mCheckpointOptions()\n\u001b[0;32m-> 2324\u001b[0m output \u001b[38;5;241m=\u001b[39m \u001b[38;5;28;43mself\u001b[39;49m\u001b[38;5;241;43m.\u001b[39;49m\u001b[43m_saver\u001b[49m\u001b[38;5;241;43m.\u001b[39;49m\u001b[43msave\u001b[49m\u001b[43m(\u001b[49m\u001b[43mfile_prefix\u001b[49m\u001b[38;5;241;43m=\u001b[39;49m\u001b[43mfile_prefix\u001b[49m\u001b[43m,\u001b[49m\u001b[43m \u001b[49m\u001b[43moptions\u001b[49m\u001b[38;5;241;43m=\u001b[39;49m\u001b[43moptions\u001b[49m\u001b[43m)\u001b[49m\n\u001b[1;32m   2325\u001b[0m output \u001b[38;5;241m=\u001b[39m _convert_file_name_tensor_to_string(output)\n\u001b[1;32m   2327\u001b[0m \u001b[38;5;28;01mif\u001b[39;00m write_done_callback:\n",
      "File \u001b[0;32m~/venv-metal/lib/python3.9/site-packages/tensorflow/python/checkpoint/checkpoint.py:1315\u001b[0m, in \u001b[0;36mTrackableSaver.save\u001b[0;34m(self, file_prefix, checkpoint_number, session, options)\u001b[0m\n\u001b[1;32m   1312\u001b[0m \u001b[38;5;28;01mif\u001b[39;00m \u001b[38;5;129;01mnot\u001b[39;00m tensor_util\u001b[38;5;241m.\u001b[39mis_tensor(file_prefix):\n\u001b[1;32m   1313\u001b[0m   file_io\u001b[38;5;241m.\u001b[39mrecursive_create_dir(os\u001b[38;5;241m.\u001b[39mpath\u001b[38;5;241m.\u001b[39mdirname(file_prefix))\n\u001b[0;32m-> 1315\u001b[0m save_path, new_feed_additions \u001b[38;5;241m=\u001b[39m \u001b[38;5;28;43mself\u001b[39;49m\u001b[38;5;241;43m.\u001b[39;49m\u001b[43m_save_cached_when_graph_building\u001b[49m\u001b[43m(\u001b[49m\n\u001b[1;32m   1316\u001b[0m \u001b[43m    \u001b[49m\u001b[43mfile_prefix_tensor\u001b[49m\u001b[43m,\u001b[49m\u001b[43m \u001b[49m\u001b[43mobject_graph_tensor\u001b[49m\u001b[43m,\u001b[49m\u001b[43m \u001b[49m\u001b[43moptions\u001b[49m\u001b[43m)\u001b[49m\n\u001b[1;32m   1318\u001b[0m \u001b[38;5;28;01mif\u001b[39;00m new_feed_additions:\n\u001b[1;32m   1319\u001b[0m   feed_dict\u001b[38;5;241m.\u001b[39mupdate(new_feed_additions)\n",
      "File \u001b[0;32m~/venv-metal/lib/python3.9/site-packages/tensorflow/python/checkpoint/checkpoint.py:1253\u001b[0m, in \u001b[0;36mTrackableSaver._save_cached_when_graph_building\u001b[0;34m(self, file_prefix, object_graph_tensor, options)\u001b[0m\n\u001b[1;32m   1245\u001b[0m \u001b[38;5;28;01mif\u001b[39;00m (\u001b[38;5;28mself\u001b[39m\u001b[38;5;241m.\u001b[39m_last_save_object_graph \u001b[38;5;241m!=\u001b[39m graph_proto\n\u001b[1;32m   1246\u001b[0m     \u001b[38;5;66;03m# When executing eagerly, we need to re-create SaveableObjects each\u001b[39;00m\n\u001b[1;32m   1247\u001b[0m     \u001b[38;5;66;03m# time save() is called so they pick up new Tensors passed to their\u001b[39;00m\n\u001b[1;32m   1248\u001b[0m     \u001b[38;5;66;03m# constructors. That means the Saver needs to be copied with a new\u001b[39;00m\n\u001b[1;32m   1249\u001b[0m     \u001b[38;5;66;03m# var_list.\u001b[39;00m\n\u001b[1;32m   1250\u001b[0m     \u001b[38;5;129;01mor\u001b[39;00m context\u001b[38;5;241m.\u001b[39mexecuting_eagerly() \u001b[38;5;129;01mor\u001b[39;00m ops\u001b[38;5;241m.\u001b[39minside_function()):\n\u001b[1;32m   1251\u001b[0m   saver \u001b[38;5;241m=\u001b[39m functional_saver\u001b[38;5;241m.\u001b[39mMultiDeviceSaver(serialized_tensors,\n\u001b[1;32m   1252\u001b[0m                                             registered_savers)\n\u001b[0;32m-> 1253\u001b[0m   save_op \u001b[38;5;241m=\u001b[39m \u001b[43msaver\u001b[49m\u001b[38;5;241;43m.\u001b[39;49m\u001b[43msave\u001b[49m\u001b[43m(\u001b[49m\u001b[43mfile_prefix\u001b[49m\u001b[43m,\u001b[49m\u001b[43m \u001b[49m\u001b[43moptions\u001b[49m\u001b[38;5;241;43m=\u001b[39;49m\u001b[43moptions\u001b[49m\u001b[43m)\u001b[49m\n\u001b[1;32m   1254\u001b[0m   \u001b[38;5;28;01mwith\u001b[39;00m ops\u001b[38;5;241m.\u001b[39mdevice(\u001b[38;5;124m\"\u001b[39m\u001b[38;5;124m/cpu:0\u001b[39m\u001b[38;5;124m\"\u001b[39m):\n\u001b[1;32m   1255\u001b[0m     \u001b[38;5;28;01mwith\u001b[39;00m ops\u001b[38;5;241m.\u001b[39mcontrol_dependencies([save_op]):\n",
      "File \u001b[0;32m~/venv-metal/lib/python3.9/site-packages/tensorflow/python/checkpoint/functional_saver.py:407\u001b[0m, in \u001b[0;36mMultiDeviceSaver.save\u001b[0;34m(self, file_prefix, options)\u001b[0m\n\u001b[1;32m    405\u001b[0m   tf_function_save()\n\u001b[1;32m    406\u001b[0m \u001b[38;5;28;01melse\u001b[39;00m:\n\u001b[0;32m--> 407\u001b[0m   \u001b[38;5;28;01mreturn\u001b[39;00m \u001b[43msave_fn\u001b[49m\u001b[43m(\u001b[49m\u001b[43m)\u001b[49m\n",
      "File \u001b[0;32m~/venv-metal/lib/python3.9/site-packages/tensorflow/python/checkpoint/functional_saver.py:381\u001b[0m, in \u001b[0;36mMultiDeviceSaver.save.<locals>.save_fn\u001b[0;34m()\u001b[0m\n\u001b[1;32m    376\u001b[0m   saved_prefixes\u001b[38;5;241m.\u001b[39mappend(shard_prefix)\n\u001b[1;32m    377\u001b[0m   \u001b[38;5;28;01mwith\u001b[39;00m ops\u001b[38;5;241m.\u001b[39mdevice(device):\n\u001b[1;32m    378\u001b[0m     \u001b[38;5;66;03m# _SingleDeviceSaver will use the CPU device when necessary, but\u001b[39;00m\n\u001b[1;32m    379\u001b[0m     \u001b[38;5;66;03m# initial read operations should be placed on the SaveableObject's\u001b[39;00m\n\u001b[1;32m    380\u001b[0m     \u001b[38;5;66;03m# device.\u001b[39;00m\n\u001b[0;32m--> 381\u001b[0m     sharded_saves\u001b[38;5;241m.\u001b[39mappend(\u001b[43msaver\u001b[49m\u001b[38;5;241;43m.\u001b[39;49m\u001b[43msave\u001b[49m\u001b[43m(\u001b[49m\u001b[43mshard_prefix\u001b[49m\u001b[43m,\u001b[49m\u001b[43m \u001b[49m\u001b[43moptions\u001b[49m\u001b[43m)\u001b[49m)\n\u001b[1;32m    383\u001b[0m \u001b[38;5;28;01mwith\u001b[39;00m ops\u001b[38;5;241m.\u001b[39mcontrol_dependencies(sharded_saves):\n\u001b[1;32m    384\u001b[0m   \u001b[38;5;66;03m# Merge on the io_device if specified, otherwise co-locates the merge op\u001b[39;00m\n\u001b[1;32m    385\u001b[0m   \u001b[38;5;66;03m# with the last device used.\u001b[39;00m\n\u001b[1;32m    386\u001b[0m   merge_device \u001b[38;5;241m=\u001b[39m (\n\u001b[1;32m    387\u001b[0m       options\u001b[38;5;241m.\u001b[39mexperimental_io_device \u001b[38;5;129;01mor\u001b[39;00m\n\u001b[1;32m    388\u001b[0m       saveable_object_util\u001b[38;5;241m.\u001b[39mset_cpu0(last_device))\n",
      "File \u001b[0;32m~/venv-metal/lib/python3.9/site-packages/tensorflow/python/checkpoint/functional_saver.py:84\u001b[0m, in \u001b[0;36m_SingleDeviceSaver.save\u001b[0;34m(self, file_prefix, options)\u001b[0m\n\u001b[1;32m     82\u001b[0m save_device \u001b[38;5;241m=\u001b[39m save_device \u001b[38;5;129;01mor\u001b[39;00m \u001b[38;5;124m\"\u001b[39m\u001b[38;5;124mcpu:0\u001b[39m\u001b[38;5;124m\"\u001b[39m\n\u001b[1;32m     83\u001b[0m \u001b[38;5;28;01mwith\u001b[39;00m ops\u001b[38;5;241m.\u001b[39mdevice(save_device):\n\u001b[0;32m---> 84\u001b[0m   \u001b[38;5;28;01mreturn\u001b[39;00m \u001b[43mio_ops\u001b[49m\u001b[38;5;241;43m.\u001b[39;49m\u001b[43msave_v2\u001b[49m\u001b[43m(\u001b[49m\u001b[43mfile_prefix\u001b[49m\u001b[43m,\u001b[49m\u001b[43m \u001b[49m\u001b[43mtensor_names\u001b[49m\u001b[43m,\u001b[49m\u001b[43m \u001b[49m\u001b[43mslice_specs\u001b[49m\u001b[43m,\u001b[49m\u001b[43m \u001b[49m\u001b[43mtensors\u001b[49m\u001b[43m)\u001b[49m\n",
      "File \u001b[0;32m~/venv-metal/lib/python3.9/site-packages/tensorflow/python/ops/gen_io_ops.py:1723\u001b[0m, in \u001b[0;36msave_v2\u001b[0;34m(prefix, tensor_names, shape_and_slices, tensors, name)\u001b[0m\n\u001b[1;32m   1721\u001b[0m   \u001b[38;5;28;01mpass\u001b[39;00m\n\u001b[1;32m   1722\u001b[0m \u001b[38;5;28;01mtry\u001b[39;00m:\n\u001b[0;32m-> 1723\u001b[0m   \u001b[38;5;28;01mreturn\u001b[39;00m \u001b[43msave_v2_eager_fallback\u001b[49m\u001b[43m(\u001b[49m\n\u001b[1;32m   1724\u001b[0m \u001b[43m      \u001b[49m\u001b[43mprefix\u001b[49m\u001b[43m,\u001b[49m\u001b[43m \u001b[49m\u001b[43mtensor_names\u001b[49m\u001b[43m,\u001b[49m\u001b[43m \u001b[49m\u001b[43mshape_and_slices\u001b[49m\u001b[43m,\u001b[49m\u001b[43m \u001b[49m\u001b[43mtensors\u001b[49m\u001b[43m,\u001b[49m\u001b[43m \u001b[49m\u001b[43mname\u001b[49m\u001b[38;5;241;43m=\u001b[39;49m\u001b[43mname\u001b[49m\u001b[43m,\u001b[49m\n\u001b[1;32m   1725\u001b[0m \u001b[43m      \u001b[49m\u001b[43mctx\u001b[49m\u001b[38;5;241;43m=\u001b[39;49m\u001b[43m_ctx\u001b[49m\u001b[43m)\u001b[49m\n\u001b[1;32m   1726\u001b[0m \u001b[38;5;28;01mexcept\u001b[39;00m _core\u001b[38;5;241m.\u001b[39m_SymbolicException:\n\u001b[1;32m   1727\u001b[0m   \u001b[38;5;28;01mpass\u001b[39;00m  \u001b[38;5;66;03m# Add nodes to the TensorFlow graph.\u001b[39;00m\n",
      "File \u001b[0;32m~/venv-metal/lib/python3.9/site-packages/tensorflow/python/ops/gen_io_ops.py:1744\u001b[0m, in \u001b[0;36msave_v2_eager_fallback\u001b[0;34m(prefix, tensor_names, shape_and_slices, tensors, name, ctx)\u001b[0m\n\u001b[1;32m   1742\u001b[0m _inputs_flat \u001b[38;5;241m=\u001b[39m [prefix, tensor_names, shape_and_slices] \u001b[38;5;241m+\u001b[39m \u001b[38;5;28mlist\u001b[39m(tensors)\n\u001b[1;32m   1743\u001b[0m _attrs \u001b[38;5;241m=\u001b[39m (\u001b[38;5;124m\"\u001b[39m\u001b[38;5;124mdtypes\u001b[39m\u001b[38;5;124m\"\u001b[39m, _attr_dtypes)\n\u001b[0;32m-> 1744\u001b[0m _result \u001b[38;5;241m=\u001b[39m \u001b[43m_execute\u001b[49m\u001b[38;5;241;43m.\u001b[39;49m\u001b[43mexecute\u001b[49m\u001b[43m(\u001b[49m\u001b[38;5;124;43mb\u001b[39;49m\u001b[38;5;124;43m\"\u001b[39;49m\u001b[38;5;124;43mSaveV2\u001b[39;49m\u001b[38;5;124;43m\"\u001b[39;49m\u001b[43m,\u001b[49m\u001b[43m \u001b[49m\u001b[38;5;241;43m0\u001b[39;49m\u001b[43m,\u001b[49m\u001b[43m \u001b[49m\u001b[43minputs\u001b[49m\u001b[38;5;241;43m=\u001b[39;49m\u001b[43m_inputs_flat\u001b[49m\u001b[43m,\u001b[49m\u001b[43m \u001b[49m\u001b[43mattrs\u001b[49m\u001b[38;5;241;43m=\u001b[39;49m\u001b[43m_attrs\u001b[49m\u001b[43m,\u001b[49m\n\u001b[1;32m   1745\u001b[0m \u001b[43m                           \u001b[49m\u001b[43mctx\u001b[49m\u001b[38;5;241;43m=\u001b[39;49m\u001b[43mctx\u001b[49m\u001b[43m,\u001b[49m\u001b[43m \u001b[49m\u001b[43mname\u001b[49m\u001b[38;5;241;43m=\u001b[39;49m\u001b[43mname\u001b[49m\u001b[43m)\u001b[49m\n\u001b[1;32m   1746\u001b[0m _result \u001b[38;5;241m=\u001b[39m \u001b[38;5;28;01mNone\u001b[39;00m\n\u001b[1;32m   1747\u001b[0m \u001b[38;5;28;01mreturn\u001b[39;00m _result\n",
      "File \u001b[0;32m~/venv-metal/lib/python3.9/site-packages/tensorflow/python/eager/execute.py:53\u001b[0m, in \u001b[0;36mquick_execute\u001b[0;34m(op_name, num_outputs, inputs, attrs, ctx, name)\u001b[0m\n\u001b[1;32m     51\u001b[0m \u001b[38;5;28;01mtry\u001b[39;00m:\n\u001b[1;32m     52\u001b[0m   ctx\u001b[38;5;241m.\u001b[39mensure_initialized()\n\u001b[0;32m---> 53\u001b[0m   tensors \u001b[38;5;241m=\u001b[39m \u001b[43mpywrap_tfe\u001b[49m\u001b[38;5;241;43m.\u001b[39;49m\u001b[43mTFE_Py_Execute\u001b[49m\u001b[43m(\u001b[49m\u001b[43mctx\u001b[49m\u001b[38;5;241;43m.\u001b[39;49m\u001b[43m_handle\u001b[49m\u001b[43m,\u001b[49m\u001b[43m \u001b[49m\u001b[43mdevice_name\u001b[49m\u001b[43m,\u001b[49m\u001b[43m \u001b[49m\u001b[43mop_name\u001b[49m\u001b[43m,\u001b[49m\n\u001b[1;32m     54\u001b[0m \u001b[43m                                      \u001b[49m\u001b[43minputs\u001b[49m\u001b[43m,\u001b[49m\u001b[43m \u001b[49m\u001b[43mattrs\u001b[49m\u001b[43m,\u001b[49m\u001b[43m \u001b[49m\u001b[43mnum_outputs\u001b[49m\u001b[43m)\u001b[49m\n\u001b[1;32m     55\u001b[0m \u001b[38;5;28;01mexcept\u001b[39;00m core\u001b[38;5;241m.\u001b[39m_NotOkStatusException \u001b[38;5;28;01mas\u001b[39;00m e:\n\u001b[1;32m     56\u001b[0m   \u001b[38;5;28;01mif\u001b[39;00m name \u001b[38;5;129;01mis\u001b[39;00m \u001b[38;5;129;01mnot\u001b[39;00m \u001b[38;5;28;01mNone\u001b[39;00m:\n",
      "\u001b[0;31mKeyboardInterrupt\u001b[0m: "
     ]
    }
   ],
   "source": [
    "from tensorflow.keras.losses import SparseCategoricalCrossentropy\n",
    "from segmentation_models.losses import bce_jaccard_loss\n",
    "from segmentation_models.metrics import iou_score\n",
    "from tensorflow.keras.optimizers import Adam\n",
    "\n",
    "# Load the pretrained model\n",
    "BACKBONE = 'resnet50'\n",
    "\n",
    "early_stopping_cb = tf.keras.callbacks.EarlyStopping(patience=50)\n",
    "\n",
    "checkpoint_path = \"training_weights/resnet50/imcp-{epoch:04d}.ckpt\"\n",
    "checkpoint_dir = os.path.dirname(checkpoint_path)\n",
    "cp_save_weight = tf.keras.callbacks.ModelCheckpoint(checkpoint_dir,verbose=1,save_weights_only= True,period = 5)\n",
    "\n",
    "\n",
    "# Set the input image dimensions\n",
    "input_shape = (1024, 1024, 3)\n",
    "\n",
    "model = sm.Unet(BACKBONE,encoder_weights='imagenet', input_shape=input_shape,classes=5)\n",
    "\n",
    "\n",
    "# Compile the model with sparse categorical cross-entropy loss\n",
    "# Define the optimizer and compile the model with the loss and metrics\n",
    "optimizer = Adam(learning_rate=0.001)\n",
    "\n",
    "model.compile(optimizer=optimizer, loss=bce_jaccard_loss, metrics=[iou_score])\n",
    "\n",
    "weights = tf.train.latest_checkpoint('training_weights/')\n",
    "if  weights:\n",
    "    model.load_weights(weights)\n",
    "    \n",
    "\n",
    "# Train the model\n",
    "history = model.fit(X_train, y_train, epochs=400, batch_size=32,\n",
    "                    validation_data=(X_val, y_val),\n",
    "                        callbacks=[early_stopping_cb,cp_save_weight])\n",
    "\n",
    "\n"
   ]
  },
  {
   "cell_type": "code",
   "execution_count": null,
   "id": "54fc1e8d",
   "metadata": {},
   "outputs": [],
   "source": []
  },
  {
   "cell_type": "code",
   "execution_count": 9,
   "id": "3a4227b8",
   "metadata": {},
   "outputs": [
    {
     "name": "stderr",
     "output_type": "stream",
     "text": [
      "[ WARN:0@132.955] global loadsave.cpp:244 findDecoder imread_('blurred_images/train/images/hurricane-harvey_00000015_pre_disaster_salt_pepper.png'): can't open/read file: check file path/integrity\n",
      "[ WARN:0@132.955] global loadsave.cpp:244 findDecoder imread_('blurred_images/train/targets/hurricane-harvey_00000015_pre_disaster_target_salt_pepper.png'): can't open/read file: check file path/integrity\n"
     ]
    },
    {
     "ename": "AttributeError",
     "evalue": "'NoneType' object has no attribute 'shape'",
     "output_type": "error",
     "traceback": [
      "\u001b[0;31m---------------------------------------------------------------------------\u001b[0m",
      "\u001b[0;31mAttributeError\u001b[0m                            Traceback (most recent call last)",
      "Cell \u001b[0;32mIn[9], line 9\u001b[0m\n\u001b[1;32m      6\u001b[0m pre_image \u001b[38;5;241m=\u001b[39m cv2\u001b[38;5;241m.\u001b[39mimread(pre_image_path)\n\u001b[1;32m      7\u001b[0m target \u001b[38;5;241m=\u001b[39m cv2\u001b[38;5;241m.\u001b[39mimread(target_path, cv2\u001b[38;5;241m.\u001b[39mIMREAD_GRAYSCALE)\n\u001b[0;32m----> 9\u001b[0m \u001b[38;5;28mprint\u001b[39m(\u001b[38;5;124m\"\u001b[39m\u001b[38;5;124mThe Image Shape : \u001b[39m\u001b[38;5;132;01m{}\u001b[39;00m\u001b[38;5;124m and target Shape : \u001b[39m\u001b[38;5;132;01m{}\u001b[39;00m\u001b[38;5;124m\"\u001b[39m\u001b[38;5;241m.\u001b[39mformat(\u001b[43mpre_image\u001b[49m\u001b[38;5;241;43m.\u001b[39;49m\u001b[43mshape\u001b[49m,target\u001b[38;5;241m.\u001b[39mshape))\n\u001b[1;32m     11\u001b[0m original_segmented_image \u001b[38;5;241m=\u001b[39m cv2\u001b[38;5;241m.\u001b[39mbitwise_and(pre_image, pre_image, mask\u001b[38;5;241m=\u001b[39mtarget)\n\u001b[1;32m     13\u001b[0m \u001b[38;5;28mprint\u001b[39m(\u001b[38;5;124m\"\u001b[39m\u001b[38;5;124mThe shape of Original segmented Image :\u001b[39m\u001b[38;5;132;01m{}\u001b[39;00m\u001b[38;5;124m\"\u001b[39m\u001b[38;5;241m.\u001b[39mformat(original_segmented_image\u001b[38;5;241m.\u001b[39mshape))\n",
      "\u001b[0;31mAttributeError\u001b[0m: 'NoneType' object has no attribute 'shape'"
     ]
    }
   ],
   "source": [
    "import cv2\n",
    "pre_image_path = 'blurred_images/train/images/hurricane-harvey_00000015_pre_disaster_salt_pepper.png'\n",
    "target_path = 'blurred_images/train/targets/hurricane-harvey_00000015_pre_disaster_target_salt_pepper.png'\n",
    "original_target_path = 'train/targets/hurricane-harvey_00000015_pre_disaster_target.png'\n",
    "\n",
    "pre_image = cv2.imread(pre_image_path)\n",
    "target = cv2.imread(target_path, cv2.IMREAD_GRAYSCALE)\n",
    "\n",
    "print(\"The Image Shape : {} and target Shape : {}\".format(pre_image.shape,target.shape))\n",
    "\n",
    "original_segmented_image = cv2.bitwise_and(pre_image, pre_image, mask=target)\n",
    "\n",
    "print(\"The shape of Original segmented Image :{}\".format(original_segmented_image.shape))\n",
    "\n",
    "\n",
    "# Display the images and target mask for visualization (optional)\n",
    "cv2.imshow('Pre-disaster Image', pre_image)\n",
    "cv2.imshow('Target Mask', target)\n",
    "cv2.imshow('Filtered Segmented Image', original_segmented_image)\n",
    "cv2.imshow('Original Segmented Image', cv2.bitwise_and(pre_image, pre_image, \n",
    "                                                       mask=cv2.imread(original_target_path, cv2.IMREAD_GRAYSCALE)))\n",
    "\n",
    "cv2.waitKey(0)\n",
    "cv2.destroyAllWindows()\n",
    "cv2.waitKey(1)"
   ]
  },
  {
   "cell_type": "code",
   "execution_count": null,
   "id": "ab4bc799",
   "metadata": {},
   "outputs": [],
   "source": [
    "\n",
    "\n"
   ]
  },
  {
   "cell_type": "code",
   "execution_count": null,
   "id": "809f9960",
   "metadata": {},
   "outputs": [],
   "source": []
  },
  {
   "cell_type": "code",
   "execution_count": null,
   "id": "1d8ef9f8",
   "metadata": {},
   "outputs": [],
   "source": []
  }
 ],
 "metadata": {
  "kernelspec": {
   "display_name": "Python 3 (ipykernel)",
   "language": "python",
   "name": "python3"
  },
  "language_info": {
   "codemirror_mode": {
    "name": "ipython",
    "version": 3
   },
   "file_extension": ".py",
   "mimetype": "text/x-python",
   "name": "python",
   "nbconvert_exporter": "python",
   "pygments_lexer": "ipython3",
   "version": "3.9.6"
  }
 },
 "nbformat": 4,
 "nbformat_minor": 5
}
