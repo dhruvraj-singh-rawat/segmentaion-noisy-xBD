{
 "cells": [
  {
   "cell_type": "markdown",
   "id": "df632e2a",
   "metadata": {},
   "source": [
    "# Config"
   ]
  },
  {
   "cell_type": "code",
   "execution_count": 42,
   "id": "1bd098aa",
   "metadata": {},
   "outputs": [
    {
     "name": "stderr",
     "output_type": "stream",
     "text": [
      "/var/folders/3y/1js5b25s1b1dk8g7drn7_g8h0000gn/T/ipykernel_11106/4065838880.py:14: DeprecationWarning: Please use `generic_filter` from the `scipy.ndimage` namespace, the `scipy.ndimage.filters` namespace is deprecated.\n",
      "  from scipy.ndimage.filters import generic_filter\n"
     ]
    }
   ],
   "source": [
    "import os\n",
    "os.environ[\"SM_FRAMEWORK\"] = \"tf.keras\"\n",
    "import segmentation_models as sm\n",
    "import tensorflow as tf\n",
    "from focal_loss import BinaryFocalLoss,sparse_categorical_focal_loss\n",
    "\n",
    "import os\n",
    "import cv2\n",
    "import numpy as np \n",
    "import random\n",
    "import numpy as np\n",
    "from PIL import Image\n",
    "\n",
    "from scipy.ndimage.filters import generic_filter\n",
    "\n",
    "# Input Image Dir\n",
    "image_dir = \"train/images/\"\n",
    "image_target_dir = \"train/targets/\"\n",
    "\n",
    "# Output Dir\n",
    "output_image_dir = \"blurred_images/train/images/\"\n",
    "output_target_dir = \"blurred_images/train/targets/\"\n",
    "\n",
    "# Noise Parameters \n",
    "\n",
    "gaussian_stddev = 0.35\n",
    "salt_pepper_probability = 0.002\n",
    "\n",
    "# Majority Filter Parameters \n",
    "\n",
    "perform_majority_filtering = 1\n",
    "neighborhood_size = (3, 3)  # 3x3 neighborhood\n",
    "threshold = 8  # Threshold value"
   ]
  },
  {
   "cell_type": "code",
   "execution_count": 43,
   "id": "ed0b174b",
   "metadata": {},
   "outputs": [
    {
     "data": {
      "text/plain": [
       "'blurred_images/train/targets/'"
      ]
     },
     "execution_count": 43,
     "metadata": {},
     "output_type": "execute_result"
    }
   ],
   "source": [
    "output_target_dir"
   ]
  },
  {
   "cell_type": "markdown",
   "id": "7da1fc55",
   "metadata": {},
   "source": [
    "## Visualize Noisy Images - ( Optional - For Visualization )"
   ]
  },
  {
   "cell_type": "code",
   "execution_count": 44,
   "id": "83b92a92",
   "metadata": {},
   "outputs": [],
   "source": [
    "# # List all image files in the directory\n",
    "# image_files = [f for f in os.listdir(image_dir) if f.endswith((\".jpg\", \".jpeg\", \".png\"))]\n",
    "\n",
    "# indx = random.randint(0, len(image_files))\n",
    "# image_file = image_files[indx]\n",
    "\n",
    "\n",
    "# # Read the image\n",
    "# image_path = os.path.join(image_dir, image_file)\n",
    "# image = cv2.imread(image_path)\n",
    " \n",
    "# # Add Gaussian noise\n",
    "# mean = 0\n",
    "# stddev = gaussian_stddev\n",
    "# gaussian_noise = np.random.normal(mean, stddev, image.shape).astype(np.uint8)\n",
    "# noisy_image_gaussian = cv2.add(image, gaussian_noise)\n",
    "\n",
    "# # Add salt and pepper noise\n",
    "# salt_pepper_noise = np.zeros(image.shape, np.uint8)\n",
    "# probability = salt_pepper_probability\n",
    "# salt = np.where(np.random.rand(*image.shape[:2]) < probability)\n",
    "# pepper = np.where(np.random.rand(*image.shape[:2]) < probability)\n",
    "# salt_pepper_noise[salt] = 255\n",
    "# salt_pepper_noise[pepper] = 0\n",
    "# noisy_image_salt_pepper = cv2.add(image, salt_pepper_noise)\n",
    "\n",
    "# cv2.imshow(\"Original Image\", image)\n",
    "# cv2.imshow(\"Noisy Image (Salt&Pepper)\", noisy_image_salt_pepper)\n",
    "# cv2.imshow(\"Noisy Image (Gaussian)\", noisy_image_gaussian)\n",
    "\n",
    "# cv2.waitKey(0)\n",
    "# cv2.destroyAllWindows()\n",
    "# cv2.waitKey(1)\n"
   ]
  },
  {
   "cell_type": "markdown",
   "id": "fea08694",
   "metadata": {},
   "source": [
    "## Defining Basic Functions "
   ]
  },
  {
   "cell_type": "code",
   "execution_count": 45,
   "id": "03dbbfc0",
   "metadata": {},
   "outputs": [],
   "source": [
    "def majority_filter(mask, neighborhood_size, threshold):\n",
    "    def majority_value(arr):\n",
    "        unique_classes, counts = np.unique(arr, return_counts=True, axis=0)\n",
    "        max_count = np.max(counts)\n",
    "        if max_count >= threshold:  # Check if the max count crosses the threshold\n",
    "            majority_class = unique_classes[np.argmax(counts)]\n",
    "            return majority_class\n",
    "        else:\n",
    "            return arr[int(len(arr)/2)]  # Keep the original value\n",
    "\n",
    "    filtered_mask = np.zeros_like(mask)\n",
    "\n",
    "    for channel in range(mask.shape[2]):\n",
    "        channel_filtered = generic_filter(mask[:, :, channel], majority_value, size=neighborhood_size)\n",
    "        filtered_mask[:, :, channel] = channel_filtered\n",
    "\n",
    "    return filtered_mask\n",
    "\n",
    "def bin_images(image):\n",
    "    # Convert pixel values less than 2 to 0 and values greater than or equal to 2 to 1\n",
    "    image[image < 2] = 0\n",
    "    image[image >= 2] = 1\n",
    "    \n",
    "    return image\n",
    "    \n",
    "    \n",
    "def generate_noisy_images(input_dir,image_target_dir,\n",
    "                          output_image_dir,output_target_dir,\n",
    "                          gaussian_stddev,salt_pepper_probability,\n",
    "                         perform_majority_filtering,\n",
    "                         bin_mask = False,\n",
    "                         early_stopping = False):\n",
    "\n",
    "    # Create separate folders for different types of noise\n",
    "    output_dir_image = os.path.join('', output_image_dir)\n",
    "    output_dir_mask = os.path.join('', output_target_dir)\n",
    "\n",
    "\n",
    "    os.makedirs(output_dir_image, exist_ok=True)\n",
    "    os.makedirs(output_dir_mask, exist_ok=True)\n",
    "\n",
    "\n",
    "    # List all image files in the directory\n",
    "    image_files = [f for f in os.listdir(input_dir) if f.endswith((\".jpg\", \".jpeg\", \".png\"))]\n",
    "\n",
    "    for image_file in image_files:\n",
    "        # Read the image\n",
    "        image_path = os.path.join(image_dir, image_file)\n",
    "        image = cv2.imread(image_path)\n",
    "        \n",
    "        # Read Mask\n",
    "        image_mask_path = os.path.join(image_target_dir, image_file[:-4] + '_target.png')\n",
    "        mask = cv2.imread(image_mask_path)\n",
    "        #mask = Image.open(image_mask_path)\n",
    "        if bin_mask:\n",
    "            mask = bin_images(mask)\n",
    "        \n",
    "        if perform_majority_filtering:\n",
    "            mask = majority_filter(mask, neighborhood_size, threshold)\n",
    "        \n",
    "        print(mask.shape)\n",
    "\n",
    "        # Add Gaussian noise\n",
    "        mean = 0\n",
    "        stddev = gaussian_stddev\n",
    "        gaussian_noise = np.random.normal(mean, stddev, image.shape).astype(np.uint8)\n",
    "        noisy_image_gaussian = cv2.add(image, gaussian_noise)\n",
    "\n",
    "        # Add salt and pepper noise\n",
    "        salt_pepper_noise = np.zeros(image.shape, np.uint8)\n",
    "        probability = salt_pepper_probability\n",
    "        salt = np.where(np.random.rand(*image.shape[:2]) < probability)\n",
    "        pepper = np.where(np.random.rand(*image.shape[:2]) < probability)\n",
    "        salt_pepper_noise[salt] = 255\n",
    "        salt_pepper_noise[pepper] = 0\n",
    "        noisy_image_salt_pepper = cv2.add(image, salt_pepper_noise)\n",
    "\n",
    "\n",
    "\n",
    "        # Save the noisy images in separate folders\n",
    "        output_path_gaussian = os.path.join(output_dir_image, image_file[:-4]+'_gaussian'+image_file[-4:])\n",
    "        output_path_salt_pepper = os.path.join(output_dir_image, image_file[:-4]+'_salt_pepper'+image_file[-4:])\n",
    "        output_path_original = os.path.join(output_dir_image, image_file)\n",
    "        \n",
    "        # Mask for different Noise\n",
    "        output_path_gaussian_mask = os.path.join(output_dir_mask, image_file[:-4]+'_gaussian_target'+image_file[-4:])\n",
    "        output_path_salt_pepper_mask = os.path.join(output_dir_mask, image_file[:-4]+'_salt_pepper_target'+image_file[-4:])\n",
    "        output_path_original_mask = os.path.join(output_dir_mask, image_file[:-4]+'_target'+image_file[-4:])\n",
    "        \n",
    "        # Saving\n",
    "        print(output_path_gaussian)\n",
    "        cv2.imwrite(output_path_gaussian, noisy_image_gaussian)\n",
    "        cv2.imwrite(output_path_salt_pepper, noisy_image_salt_pepper)\n",
    "        cv2.imwrite(output_path_original, image)\n",
    "        \n",
    "        print(output_path_gaussian_mask)\n",
    "        \n",
    "        cv2.imwrite(output_path_gaussian_mask,mask)\n",
    "        cv2.imwrite(output_path_salt_pepper_mask,mask)\n",
    "        cv2.imwrite(output_path_original_mask,mask)\n",
    "        \n",
    "#         mask.save(output_path_gaussian_mask)\n",
    "#         mask.save(output_path_salt_pepper_mask)\n",
    "#         mask.save(output_path_original_mask)\n",
    "        \n",
    "        if early_stopping:\n",
    "            break\n",
    "\n",
    "    print(\"Noisy images saved.\")\n",
    "\n",
    "\n",
    "def load_data(data_dir, resize=False):\n",
    "    # Set the paths to the directories containing the dataset\n",
    "    images_dir = os.path.join(data_dir, 'images')\n",
    "    labels_dir = os.path.join(data_dir, 'targets')\n",
    "\n",
    "    \n",
    "    # Set the input image dimensions\n",
    "    input_shape = (128, 128, 3)  # Adjust as needed\n",
    "\n",
    "    # Get the list of image filenames\n",
    "    image_filenames = os.listdir(images_dir)\n",
    "\n",
    "    # Batch size for loading images\n",
    "    batch_size = 32\n",
    "\n",
    "    # Prepare the data for training\n",
    "    X_train = []\n",
    "    y_train = []\n",
    "\n",
    "    # Process images in batches\n",
    "    for i in range(0, len(image_filenames), batch_size):\n",
    "        batch_filenames = image_filenames[i:i + batch_size]\n",
    "        batch_X = []\n",
    "        batch_y = []\n",
    "\n",
    "        for filename in batch_filenames:\n",
    "            # Load pre and post-disaster images\n",
    "            pre_image_path = os.path.join(images_dir, filename)\n",
    "            pre_image = cv2.imread(pre_image_path)\n",
    "\n",
    "            # Load the corresponding label\n",
    "            label_filename = filename[:-4] + '_target.png'\n",
    "            label_path = os.path.join(labels_dir, label_filename)\n",
    "            label = cv2.imread(label_path, cv2.IMREAD_GRAYSCALE)\n",
    "\n",
    "            if resize:\n",
    "                # Resize the images to the desired shape\n",
    "                pre_image = cv2.resize(pre_image, (input_shape[0], input_shape[1]))\n",
    "                label = cv2.resize(label, (input_shape[0], input_shape[1]))\n",
    "\n",
    "            # Add the data to the batch\n",
    "            batch_X.append(pre_image)\n",
    "            batch_y.append(label)\n",
    "\n",
    "        # Convert the batch lists to numpy arrays\n",
    "        batch_X = np.array(batch_X)\n",
    "        print(len(batch_y))\n",
    "\n",
    "        # Check if all labels in the batch have the same shape\n",
    "        label_shapes = set([label.shape for label in batch_y])\n",
    "        if len(label_shapes) > 1:\n",
    "            raise ValueError(\"Labels in the batch have different shapes.\")\n",
    "\n",
    "        batch_y = np.array(batch_y)\n",
    "\n",
    "        # Add the batch data to the training set\n",
    "        X_train.append(batch_X)\n",
    "        y_train.append(batch_y)\n",
    "\n",
    "    # Concatenate the batches to obtain the final training data\n",
    "    X_train = np.concatenate(X_train)\n",
    "    y_train = np.concatenate(y_train)\n",
    "\n",
    "    return X_train, y_train\n",
    "\n",
    "\n"
   ]
  },
  {
   "cell_type": "code",
   "execution_count": 46,
   "id": "33a74ba2",
   "metadata": {},
   "outputs": [
    {
     "name": "stdout",
     "output_type": "stream",
     "text": [
      "(1024, 1024, 3)\n",
      "blurred_images/train/images/hurricane-harvey_00000015_pre_disaster_gaussian.png\n",
      "blurred_images/train/targets/hurricane-harvey_00000015_pre_disaster_gaussian_target.png\n",
      "Noisy images saved.\n"
     ]
    }
   ],
   "source": [
    "# Generate Noisy Image Dataset - Skip of Already Created \n",
    "\n",
    "generate_noisy_images(image_dir,image_target_dir,\n",
    "                      output_image_dir,output_target_dir,\n",
    "                      gaussian_stddev,salt_pepper_probability,\n",
    "                     perform_majority_filtering = 1 ,\n",
    "                     bin_mask = True,\n",
    "                     early_stopping = False)\n"
   ]
  },
  {
   "cell_type": "markdown",
   "id": "5dc048c9",
   "metadata": {},
   "source": [
    "### Testing - No Need to run "
   ]
  },
  {
   "cell_type": "code",
   "execution_count": 47,
   "id": "bbf228fc",
   "metadata": {},
   "outputs": [],
   "source": [
    "# output_target_dir = \"train/targets/\"\n",
    "# output_dir_mask = os.path.join('', output_target_dir)\n",
    "\n",
    "# # List all image files in the directory\n",
    "# image_files = [f for f in os.listdir(output_dir_mask) if f.endswith((\".jpg\", \".jpeg\", \".png\"))]\n",
    "\n",
    "# max_pixels = 0\n",
    "# max_image_path = ''\n",
    "\n",
    "# for image_file in image_files:\n",
    "#     # Read the image\n",
    "#     image_path = os.path.join(output_dir_mask, image_file)\n",
    "#     image = cv2.imread(image_path, cv2.IMREAD_GRAYSCALE)\n",
    "\n",
    "#     # Count the pixels with value 2 and above\n",
    "#     if 2 in np.unique(image):\n",
    "#         print(image_path)\n",
    "#         print(np.unique(image))\n",
    "#         print(\"-------------------\")\n",
    "\n",
    "\n",
    "# #print(\"Image with the maximum number of pixels (value >= 2):\", max_image_path)\n",
    "\n"
   ]
  },
  {
   "cell_type": "code",
   "execution_count": 48,
   "id": "ced88f59",
   "metadata": {},
   "outputs": [],
   "source": [
    "# # output_target_dir = \"train/targets/\"\n",
    "# # output_dir_mask = os.path.join('', output_target_dir)\n",
    "\n",
    "# # # List all image files in the directory\n",
    "# # image_files = [f for f in os.listdir(output_dir_mask) if f.endswith((\".jpg\", \".jpeg\", \".png\"))]\n",
    "\n",
    "# # max_pixels = 0\n",
    "# # max_image_path = ''\n",
    "\n",
    "# # for image_file in image_files:\n",
    "# #     # Read the image\n",
    "# #     image_path = os.path.join(output_dir_mask, image_file)\n",
    "# #     image = cv2.imread(image_path, cv2.IMREAD_GRAYSCALE)\n",
    "\n",
    "# #     # Count the pixels with value 2 and above\n",
    "# #     count = np.sum(image >= 2)\n",
    "\n",
    "# #     # Update the maximum pixel count and image path if necessary\n",
    "# #     if count > max_pixels:\n",
    "# #         max_pixels = count\n",
    "# #         max_image_path = image_path\n",
    "\n",
    "# # print(\"Image with the maximum number of pixels (value >= 2):\", max_image_path)\n",
    "\n",
    "# ## --- >train/targets/palu-tsunami_00000118_post_disaster_target.png\n",
    "\n",
    "\n",
    "# # Read the image\n",
    "# def bin_images(image):\n",
    "#     # Convert pixel values less than 2 to 0 and values greater than or equal to 2 to 1\n",
    "#     image[image < 2] = 0\n",
    "#     image[image >= 2] = 1\n",
    "    \n",
    "#     return image\n",
    "\n",
    "# image = cv2.imread('train/images/palu-tsunami_00000118_post_disaster.png')\n",
    "# image_mask = cv2.imread('train/targets/palu-tsunami_00000118_post_disaster_target.png',cv2.IMREAD_GRAYSCALE)\n",
    "# binned_mask = bin_images(image_mask)\n",
    "\n",
    "\n",
    "# cv2.imshow(\"Original Image\", image)\n",
    "# cv2.imshow(\"Original Segment\", cv2.bitwise_and(image, image, mask=image_mask))\n",
    "# cv2.imshow(\"Binned Segment\", cv2.bitwise_and(image, image, mask=binned_mask))\n",
    "\n",
    "# cv2.waitKey(0)\n",
    "# cv2.destroyAllWindows()\n",
    "# cv2.waitKey(1)\n",
    "\n",
    "\n"
   ]
  },
  {
   "cell_type": "markdown",
   "id": "e3e181be",
   "metadata": {},
   "source": [
    "## Loading Model Data "
   ]
  },
  {
   "cell_type": "code",
   "execution_count": 49,
   "id": "e6c03b84",
   "metadata": {},
   "outputs": [
    {
     "name": "stdout",
     "output_type": "stream",
     "text": [
      "3\n"
     ]
    }
   ],
   "source": [
    "BACKBONE = 'resnet50'\n",
    "\n",
    "(X,y) = load_data('blurred_images/train',resize = False)\n",
    "\n",
    "from keras.utils import normalize\n",
    "from segmentation_models import get_preprocessing\n",
    "from sklearn.model_selection import train_test_split\n",
    "\n",
    "\n",
    "y = np.expand_dims(y, axis=3)\n",
    "\n",
    "n_classes = 2\n",
    "\n",
    "from keras.utils import to_categorical\n",
    "train_masks_cat = to_categorical(y, num_classes=n_classes)\n",
    "y_train_cat = train_masks_cat.reshape((y.shape[0], y.shape[1], y.shape[2], n_classes))\n",
    "\n",
    "X_train, X_val, y_train, y_val  = train_test_split(X, y_train_cat, test_size=0.1, random_state=1)\n"
   ]
  },
  {
   "cell_type": "markdown",
   "id": "4040750b",
   "metadata": {},
   "source": [
    "## Training Model "
   ]
  },
  {
   "cell_type": "code",
   "execution_count": 52,
   "id": "3afdfc2f",
   "metadata": {},
   "outputs": [
    {
     "name": "stdout",
     "output_type": "stream",
     "text": [
      "WARNING:tensorflow:`period` argument is deprecated. Please use `save_freq` to specify the frequency in number of batches seen.\n"
     ]
    },
    {
     "name": "stderr",
     "output_type": "stream",
     "text": [
      "WARNING:tensorflow:`period` argument is deprecated. Please use `save_freq` to specify the frequency in number of batches seen.\n",
      "WARNING:absl:At this time, the v2.11+ optimizer `tf.keras.optimizers.Adam` runs slowly on M1/M2 Macs, please use the legacy Keras optimizer instead, located at `tf.keras.optimizers.legacy.Adam`.\n",
      "WARNING:absl:There is a known slowdown when using v2.11+ Keras optimizers on M1/M2 Macs. Falling back to the legacy Keras optimizer, i.e., `tf.keras.optimizers.legacy.Adam`.\n"
     ]
    },
    {
     "name": "stdout",
     "output_type": "stream",
     "text": [
      "Epoch 1/400\n"
     ]
    },
    {
     "name": "stderr",
     "output_type": "stream",
     "text": [
      "2023-06-25 16:13:40.958264: I tensorflow/core/grappler/optimizers/custom_graph_optimizer_registry.cc:114] Plugin optimizer for device_type GPU is enabled.\n"
     ]
    },
    {
     "name": "stdout",
     "output_type": "stream",
     "text": [
      "\r",
      "1/1 [==============================] - ETA: 0s - loss: 1.0989 - iou_score: 0.3442"
     ]
    },
    {
     "name": "stderr",
     "output_type": "stream",
     "text": [
      "2023-06-25 16:13:47.089584: I tensorflow/core/grappler/optimizers/custom_graph_optimizer_registry.cc:114] Plugin optimizer for device_type GPU is enabled.\n"
     ]
    },
    {
     "name": "stdout",
     "output_type": "stream",
     "text": [
      "1/1 [==============================] - 8s 8s/step - loss: 1.0989 - iou_score: 0.3442 - val_loss: 0.5439 - val_iou_score: 0.4952\n",
      "Epoch 2/400\n",
      "1/1 [==============================] - 4s 4s/step - loss: 1.0555 - iou_score: 0.3554 - val_loss: 0.6697 - val_iou_score: 0.4871\n",
      "Epoch 3/400\n",
      "1/1 [==============================] - 4s 4s/step - loss: 1.0230 - iou_score: 0.3645 - val_loss: 3.6421 - val_iou_score: 0.2083\n",
      "Epoch 4/400\n",
      "1/1 [==============================] - 4s 4s/step - loss: 0.9973 - iou_score: 0.3706 - val_loss: 12.4348 - val_iou_score: 0.0298\n",
      "Epoch 5/400\n",
      "1/1 [==============================] - ETA: 0s - loss: 0.9737 - iou_score: 0.3752\n",
      "Epoch 5: saving model to training_weights/resnet50\n",
      "1/1 [==============================] - 5s 5s/step - loss: 0.9737 - iou_score: 0.3752 - val_loss: 13.9517 - val_iou_score: 0.0182\n",
      "Epoch 6/400\n",
      "1/1 [==============================] - 4s 4s/step - loss: 0.9532 - iou_score: 0.3802 - val_loss: 16.2808 - val_iou_score: 0.0154\n",
      "Epoch 7/400\n",
      "1/1 [==============================] - 4s 4s/step - loss: 0.9344 - iou_score: 0.3867 - val_loss: 21.9184 - val_iou_score: 0.0138\n",
      "Epoch 8/400\n",
      "1/1 [==============================] - 5s 5s/step - loss: 0.9176 - iou_score: 0.3935 - val_loss: 35.1225 - val_iou_score: 0.0078\n",
      "Epoch 9/400\n"
     ]
    },
    {
     "ename": "KeyboardInterrupt",
     "evalue": "",
     "output_type": "error",
     "traceback": [
      "\u001b[0;31m---------------------------------------------------------------------------\u001b[0m",
      "\u001b[0;31mKeyboardInterrupt\u001b[0m                         Traceback (most recent call last)",
      "Cell \u001b[0;32mIn[52], line 34\u001b[0m\n\u001b[1;32m     30\u001b[0m     model\u001b[38;5;241m.\u001b[39mload_weights(weights)\n\u001b[1;32m     33\u001b[0m \u001b[38;5;66;03m# Train the model\u001b[39;00m\n\u001b[0;32m---> 34\u001b[0m history \u001b[38;5;241m=\u001b[39m \u001b[43mmodel\u001b[49m\u001b[38;5;241;43m.\u001b[39;49m\u001b[43mfit\u001b[49m\u001b[43m(\u001b[49m\u001b[43mX_train\u001b[49m\u001b[43m,\u001b[49m\u001b[43m \u001b[49m\u001b[43my_train\u001b[49m\u001b[43m,\u001b[49m\u001b[43m \u001b[49m\u001b[43mepochs\u001b[49m\u001b[38;5;241;43m=\u001b[39;49m\u001b[38;5;241;43m400\u001b[39;49m\u001b[43m,\u001b[49m\u001b[43m \u001b[49m\u001b[43mbatch_size\u001b[49m\u001b[38;5;241;43m=\u001b[39;49m\u001b[38;5;241;43m32\u001b[39;49m\u001b[43m,\u001b[49m\n\u001b[1;32m     35\u001b[0m \u001b[43m                    \u001b[49m\u001b[43mvalidation_data\u001b[49m\u001b[38;5;241;43m=\u001b[39;49m\u001b[43m(\u001b[49m\u001b[43mX_val\u001b[49m\u001b[43m,\u001b[49m\u001b[43m \u001b[49m\u001b[43my_val\u001b[49m\u001b[43m)\u001b[49m\u001b[43m,\u001b[49m\n\u001b[1;32m     36\u001b[0m \u001b[43m                        \u001b[49m\u001b[43mcallbacks\u001b[49m\u001b[38;5;241;43m=\u001b[39;49m\u001b[43m[\u001b[49m\u001b[43mearly_stopping_cb\u001b[49m\u001b[43m,\u001b[49m\u001b[43mcp_save_weight\u001b[49m\u001b[43m]\u001b[49m\u001b[43m)\u001b[49m\n",
      "File \u001b[0;32m~/venv-metal/lib/python3.9/site-packages/keras/src/utils/traceback_utils.py:65\u001b[0m, in \u001b[0;36mfilter_traceback.<locals>.error_handler\u001b[0;34m(*args, **kwargs)\u001b[0m\n\u001b[1;32m     63\u001b[0m filtered_tb \u001b[38;5;241m=\u001b[39m \u001b[38;5;28;01mNone\u001b[39;00m\n\u001b[1;32m     64\u001b[0m \u001b[38;5;28;01mtry\u001b[39;00m:\n\u001b[0;32m---> 65\u001b[0m     \u001b[38;5;28;01mreturn\u001b[39;00m \u001b[43mfn\u001b[49m\u001b[43m(\u001b[49m\u001b[38;5;241;43m*\u001b[39;49m\u001b[43margs\u001b[49m\u001b[43m,\u001b[49m\u001b[43m \u001b[49m\u001b[38;5;241;43m*\u001b[39;49m\u001b[38;5;241;43m*\u001b[39;49m\u001b[43mkwargs\u001b[49m\u001b[43m)\u001b[49m\n\u001b[1;32m     66\u001b[0m \u001b[38;5;28;01mexcept\u001b[39;00m \u001b[38;5;167;01mException\u001b[39;00m \u001b[38;5;28;01mas\u001b[39;00m e:\n\u001b[1;32m     67\u001b[0m     filtered_tb \u001b[38;5;241m=\u001b[39m _process_traceback_frames(e\u001b[38;5;241m.\u001b[39m__traceback__)\n",
      "File \u001b[0;32m~/venv-metal/lib/python3.9/site-packages/keras/src/engine/training.py:1742\u001b[0m, in \u001b[0;36mModel.fit\u001b[0;34m(self, x, y, batch_size, epochs, verbose, callbacks, validation_split, validation_data, shuffle, class_weight, sample_weight, initial_epoch, steps_per_epoch, validation_steps, validation_batch_size, validation_freq, max_queue_size, workers, use_multiprocessing)\u001b[0m\n\u001b[1;32m   1734\u001b[0m \u001b[38;5;28;01mwith\u001b[39;00m tf\u001b[38;5;241m.\u001b[39mprofiler\u001b[38;5;241m.\u001b[39mexperimental\u001b[38;5;241m.\u001b[39mTrace(\n\u001b[1;32m   1735\u001b[0m     \u001b[38;5;124m\"\u001b[39m\u001b[38;5;124mtrain\u001b[39m\u001b[38;5;124m\"\u001b[39m,\n\u001b[1;32m   1736\u001b[0m     epoch_num\u001b[38;5;241m=\u001b[39mepoch,\n\u001b[0;32m   (...)\u001b[0m\n\u001b[1;32m   1739\u001b[0m     _r\u001b[38;5;241m=\u001b[39m\u001b[38;5;241m1\u001b[39m,\n\u001b[1;32m   1740\u001b[0m ):\n\u001b[1;32m   1741\u001b[0m     callbacks\u001b[38;5;241m.\u001b[39mon_train_batch_begin(step)\n\u001b[0;32m-> 1742\u001b[0m     tmp_logs \u001b[38;5;241m=\u001b[39m \u001b[38;5;28;43mself\u001b[39;49m\u001b[38;5;241;43m.\u001b[39;49m\u001b[43mtrain_function\u001b[49m\u001b[43m(\u001b[49m\u001b[43miterator\u001b[49m\u001b[43m)\u001b[49m\n\u001b[1;32m   1743\u001b[0m     \u001b[38;5;28;01mif\u001b[39;00m data_handler\u001b[38;5;241m.\u001b[39mshould_sync:\n\u001b[1;32m   1744\u001b[0m         context\u001b[38;5;241m.\u001b[39masync_wait()\n",
      "File \u001b[0;32m~/venv-metal/lib/python3.9/site-packages/tensorflow/python/util/traceback_utils.py:150\u001b[0m, in \u001b[0;36mfilter_traceback.<locals>.error_handler\u001b[0;34m(*args, **kwargs)\u001b[0m\n\u001b[1;32m    148\u001b[0m filtered_tb \u001b[38;5;241m=\u001b[39m \u001b[38;5;28;01mNone\u001b[39;00m\n\u001b[1;32m    149\u001b[0m \u001b[38;5;28;01mtry\u001b[39;00m:\n\u001b[0;32m--> 150\u001b[0m   \u001b[38;5;28;01mreturn\u001b[39;00m \u001b[43mfn\u001b[49m\u001b[43m(\u001b[49m\u001b[38;5;241;43m*\u001b[39;49m\u001b[43margs\u001b[49m\u001b[43m,\u001b[49m\u001b[43m \u001b[49m\u001b[38;5;241;43m*\u001b[39;49m\u001b[38;5;241;43m*\u001b[39;49m\u001b[43mkwargs\u001b[49m\u001b[43m)\u001b[49m\n\u001b[1;32m    151\u001b[0m \u001b[38;5;28;01mexcept\u001b[39;00m \u001b[38;5;167;01mException\u001b[39;00m \u001b[38;5;28;01mas\u001b[39;00m e:\n\u001b[1;32m    152\u001b[0m   filtered_tb \u001b[38;5;241m=\u001b[39m _process_traceback_frames(e\u001b[38;5;241m.\u001b[39m__traceback__)\n",
      "File \u001b[0;32m~/venv-metal/lib/python3.9/site-packages/tensorflow/python/eager/polymorphic_function/polymorphic_function.py:825\u001b[0m, in \u001b[0;36mFunction.__call__\u001b[0;34m(self, *args, **kwds)\u001b[0m\n\u001b[1;32m    822\u001b[0m compiler \u001b[38;5;241m=\u001b[39m \u001b[38;5;124m\"\u001b[39m\u001b[38;5;124mxla\u001b[39m\u001b[38;5;124m\"\u001b[39m \u001b[38;5;28;01mif\u001b[39;00m \u001b[38;5;28mself\u001b[39m\u001b[38;5;241m.\u001b[39m_jit_compile \u001b[38;5;28;01melse\u001b[39;00m \u001b[38;5;124m\"\u001b[39m\u001b[38;5;124mnonXla\u001b[39m\u001b[38;5;124m\"\u001b[39m\n\u001b[1;32m    824\u001b[0m \u001b[38;5;28;01mwith\u001b[39;00m OptionalXlaContext(\u001b[38;5;28mself\u001b[39m\u001b[38;5;241m.\u001b[39m_jit_compile):\n\u001b[0;32m--> 825\u001b[0m   result \u001b[38;5;241m=\u001b[39m \u001b[38;5;28;43mself\u001b[39;49m\u001b[38;5;241;43m.\u001b[39;49m\u001b[43m_call\u001b[49m\u001b[43m(\u001b[49m\u001b[38;5;241;43m*\u001b[39;49m\u001b[43margs\u001b[49m\u001b[43m,\u001b[49m\u001b[43m \u001b[49m\u001b[38;5;241;43m*\u001b[39;49m\u001b[38;5;241;43m*\u001b[39;49m\u001b[43mkwds\u001b[49m\u001b[43m)\u001b[49m\n\u001b[1;32m    827\u001b[0m new_tracing_count \u001b[38;5;241m=\u001b[39m \u001b[38;5;28mself\u001b[39m\u001b[38;5;241m.\u001b[39mexperimental_get_tracing_count()\n\u001b[1;32m    828\u001b[0m without_tracing \u001b[38;5;241m=\u001b[39m (tracing_count \u001b[38;5;241m==\u001b[39m new_tracing_count)\n",
      "File \u001b[0;32m~/venv-metal/lib/python3.9/site-packages/tensorflow/python/eager/polymorphic_function/polymorphic_function.py:857\u001b[0m, in \u001b[0;36mFunction._call\u001b[0;34m(self, *args, **kwds)\u001b[0m\n\u001b[1;32m    854\u001b[0m   \u001b[38;5;28mself\u001b[39m\u001b[38;5;241m.\u001b[39m_lock\u001b[38;5;241m.\u001b[39mrelease()\n\u001b[1;32m    855\u001b[0m   \u001b[38;5;66;03m# In this case we have created variables on the first call, so we run the\u001b[39;00m\n\u001b[1;32m    856\u001b[0m   \u001b[38;5;66;03m# defunned version which is guaranteed to never create variables.\u001b[39;00m\n\u001b[0;32m--> 857\u001b[0m   \u001b[38;5;28;01mreturn\u001b[39;00m \u001b[38;5;28;43mself\u001b[39;49m\u001b[38;5;241;43m.\u001b[39;49m\u001b[43m_no_variable_creation_fn\u001b[49m\u001b[43m(\u001b[49m\u001b[38;5;241;43m*\u001b[39;49m\u001b[43margs\u001b[49m\u001b[43m,\u001b[49m\u001b[43m \u001b[49m\u001b[38;5;241;43m*\u001b[39;49m\u001b[38;5;241;43m*\u001b[39;49m\u001b[43mkwds\u001b[49m\u001b[43m)\u001b[49m  \u001b[38;5;66;03m# pylint: disable=not-callable\u001b[39;00m\n\u001b[1;32m    858\u001b[0m \u001b[38;5;28;01melif\u001b[39;00m \u001b[38;5;28mself\u001b[39m\u001b[38;5;241m.\u001b[39m_variable_creation_fn \u001b[38;5;129;01mis\u001b[39;00m \u001b[38;5;129;01mnot\u001b[39;00m \u001b[38;5;28;01mNone\u001b[39;00m:\n\u001b[1;32m    859\u001b[0m   \u001b[38;5;66;03m# Release the lock early so that multiple threads can perform the call\u001b[39;00m\n\u001b[1;32m    860\u001b[0m   \u001b[38;5;66;03m# in parallel.\u001b[39;00m\n\u001b[1;32m    861\u001b[0m   \u001b[38;5;28mself\u001b[39m\u001b[38;5;241m.\u001b[39m_lock\u001b[38;5;241m.\u001b[39mrelease()\n",
      "File \u001b[0;32m~/venv-metal/lib/python3.9/site-packages/tensorflow/python/eager/polymorphic_function/tracing_compiler.py:148\u001b[0m, in \u001b[0;36mTracingCompiler.__call__\u001b[0;34m(self, *args, **kwargs)\u001b[0m\n\u001b[1;32m    145\u001b[0m \u001b[38;5;28;01mwith\u001b[39;00m \u001b[38;5;28mself\u001b[39m\u001b[38;5;241m.\u001b[39m_lock:\n\u001b[1;32m    146\u001b[0m   (concrete_function,\n\u001b[1;32m    147\u001b[0m    filtered_flat_args) \u001b[38;5;241m=\u001b[39m \u001b[38;5;28mself\u001b[39m\u001b[38;5;241m.\u001b[39m_maybe_define_function(args, kwargs)\n\u001b[0;32m--> 148\u001b[0m \u001b[38;5;28;01mreturn\u001b[39;00m \u001b[43mconcrete_function\u001b[49m\u001b[38;5;241;43m.\u001b[39;49m\u001b[43m_call_flat\u001b[49m\u001b[43m(\u001b[49m\n\u001b[1;32m    149\u001b[0m \u001b[43m    \u001b[49m\u001b[43mfiltered_flat_args\u001b[49m\u001b[43m,\u001b[49m\u001b[43m \u001b[49m\u001b[43mcaptured_inputs\u001b[49m\u001b[38;5;241;43m=\u001b[39;49m\u001b[43mconcrete_function\u001b[49m\u001b[38;5;241;43m.\u001b[39;49m\u001b[43mcaptured_inputs\u001b[49m\u001b[43m)\u001b[49m\n",
      "File \u001b[0;32m~/venv-metal/lib/python3.9/site-packages/tensorflow/python/eager/polymorphic_function/monomorphic_function.py:1349\u001b[0m, in \u001b[0;36mConcreteFunction._call_flat\u001b[0;34m(self, args, captured_inputs)\u001b[0m\n\u001b[1;32m   1345\u001b[0m possible_gradient_type \u001b[38;5;241m=\u001b[39m gradients_util\u001b[38;5;241m.\u001b[39mPossibleTapeGradientTypes(args)\n\u001b[1;32m   1346\u001b[0m \u001b[38;5;28;01mif\u001b[39;00m (possible_gradient_type \u001b[38;5;241m==\u001b[39m gradients_util\u001b[38;5;241m.\u001b[39mPOSSIBLE_GRADIENT_TYPES_NONE\n\u001b[1;32m   1347\u001b[0m     \u001b[38;5;129;01mand\u001b[39;00m executing_eagerly):\n\u001b[1;32m   1348\u001b[0m   \u001b[38;5;66;03m# No tape is watching; skip to running the function.\u001b[39;00m\n\u001b[0;32m-> 1349\u001b[0m   \u001b[38;5;28;01mreturn\u001b[39;00m \u001b[38;5;28mself\u001b[39m\u001b[38;5;241m.\u001b[39m_build_call_outputs(\u001b[38;5;28;43mself\u001b[39;49m\u001b[38;5;241;43m.\u001b[39;49m\u001b[43m_inference_function\u001b[49m\u001b[43m(\u001b[49m\u001b[38;5;241;43m*\u001b[39;49m\u001b[43margs\u001b[49m\u001b[43m)\u001b[49m)\n\u001b[1;32m   1350\u001b[0m forward_backward \u001b[38;5;241m=\u001b[39m \u001b[38;5;28mself\u001b[39m\u001b[38;5;241m.\u001b[39m_select_forward_and_backward_functions(\n\u001b[1;32m   1351\u001b[0m     args,\n\u001b[1;32m   1352\u001b[0m     possible_gradient_type,\n\u001b[1;32m   1353\u001b[0m     executing_eagerly)\n\u001b[1;32m   1354\u001b[0m forward_function, args_with_tangents \u001b[38;5;241m=\u001b[39m forward_backward\u001b[38;5;241m.\u001b[39mforward()\n",
      "File \u001b[0;32m~/venv-metal/lib/python3.9/site-packages/tensorflow/python/eager/polymorphic_function/atomic_function.py:196\u001b[0m, in \u001b[0;36mAtomicFunction.__call__\u001b[0;34m(self, *args)\u001b[0m\n\u001b[1;32m    194\u001b[0m \u001b[38;5;28;01mwith\u001b[39;00m record\u001b[38;5;241m.\u001b[39mstop_recording():\n\u001b[1;32m    195\u001b[0m   \u001b[38;5;28;01mif\u001b[39;00m \u001b[38;5;28mself\u001b[39m\u001b[38;5;241m.\u001b[39m_bound_context\u001b[38;5;241m.\u001b[39mexecuting_eagerly():\n\u001b[0;32m--> 196\u001b[0m     outputs \u001b[38;5;241m=\u001b[39m \u001b[38;5;28;43mself\u001b[39;49m\u001b[38;5;241;43m.\u001b[39;49m\u001b[43m_bound_context\u001b[49m\u001b[38;5;241;43m.\u001b[39;49m\u001b[43mcall_function\u001b[49m\u001b[43m(\u001b[49m\n\u001b[1;32m    197\u001b[0m \u001b[43m        \u001b[49m\u001b[38;5;28;43mself\u001b[39;49m\u001b[38;5;241;43m.\u001b[39;49m\u001b[43mname\u001b[49m\u001b[43m,\u001b[49m\n\u001b[1;32m    198\u001b[0m \u001b[43m        \u001b[49m\u001b[38;5;28;43mlist\u001b[39;49m\u001b[43m(\u001b[49m\u001b[43margs\u001b[49m\u001b[43m)\u001b[49m\u001b[43m,\u001b[49m\n\u001b[1;32m    199\u001b[0m \u001b[43m        \u001b[49m\u001b[38;5;28;43mlen\u001b[39;49m\u001b[43m(\u001b[49m\u001b[38;5;28;43mself\u001b[39;49m\u001b[38;5;241;43m.\u001b[39;49m\u001b[43mfunction_type\u001b[49m\u001b[38;5;241;43m.\u001b[39;49m\u001b[43mflat_outputs\u001b[49m\u001b[43m)\u001b[49m\u001b[43m,\u001b[49m\n\u001b[1;32m    200\u001b[0m \u001b[43m    \u001b[49m\u001b[43m)\u001b[49m\n\u001b[1;32m    201\u001b[0m   \u001b[38;5;28;01melse\u001b[39;00m:\n\u001b[1;32m    202\u001b[0m     outputs \u001b[38;5;241m=\u001b[39m make_call_op_in_graph(\u001b[38;5;28mself\u001b[39m, \u001b[38;5;28mlist\u001b[39m(args))\n",
      "File \u001b[0;32m~/venv-metal/lib/python3.9/site-packages/tensorflow/python/eager/context.py:1457\u001b[0m, in \u001b[0;36mContext.call_function\u001b[0;34m(self, name, tensor_inputs, num_outputs)\u001b[0m\n\u001b[1;32m   1455\u001b[0m cancellation_context \u001b[38;5;241m=\u001b[39m cancellation\u001b[38;5;241m.\u001b[39mcontext()\n\u001b[1;32m   1456\u001b[0m \u001b[38;5;28;01mif\u001b[39;00m cancellation_context \u001b[38;5;129;01mis\u001b[39;00m \u001b[38;5;28;01mNone\u001b[39;00m:\n\u001b[0;32m-> 1457\u001b[0m   outputs \u001b[38;5;241m=\u001b[39m \u001b[43mexecute\u001b[49m\u001b[38;5;241;43m.\u001b[39;49m\u001b[43mexecute\u001b[49m\u001b[43m(\u001b[49m\n\u001b[1;32m   1458\u001b[0m \u001b[43m      \u001b[49m\u001b[43mname\u001b[49m\u001b[38;5;241;43m.\u001b[39;49m\u001b[43mdecode\u001b[49m\u001b[43m(\u001b[49m\u001b[38;5;124;43m\"\u001b[39;49m\u001b[38;5;124;43mutf-8\u001b[39;49m\u001b[38;5;124;43m\"\u001b[39;49m\u001b[43m)\u001b[49m\u001b[43m,\u001b[49m\n\u001b[1;32m   1459\u001b[0m \u001b[43m      \u001b[49m\u001b[43mnum_outputs\u001b[49m\u001b[38;5;241;43m=\u001b[39;49m\u001b[43mnum_outputs\u001b[49m\u001b[43m,\u001b[49m\n\u001b[1;32m   1460\u001b[0m \u001b[43m      \u001b[49m\u001b[43minputs\u001b[49m\u001b[38;5;241;43m=\u001b[39;49m\u001b[43mtensor_inputs\u001b[49m\u001b[43m,\u001b[49m\n\u001b[1;32m   1461\u001b[0m \u001b[43m      \u001b[49m\u001b[43mattrs\u001b[49m\u001b[38;5;241;43m=\u001b[39;49m\u001b[43mattrs\u001b[49m\u001b[43m,\u001b[49m\n\u001b[1;32m   1462\u001b[0m \u001b[43m      \u001b[49m\u001b[43mctx\u001b[49m\u001b[38;5;241;43m=\u001b[39;49m\u001b[38;5;28;43mself\u001b[39;49m\u001b[43m,\u001b[49m\n\u001b[1;32m   1463\u001b[0m \u001b[43m  \u001b[49m\u001b[43m)\u001b[49m\n\u001b[1;32m   1464\u001b[0m \u001b[38;5;28;01melse\u001b[39;00m:\n\u001b[1;32m   1465\u001b[0m   outputs \u001b[38;5;241m=\u001b[39m execute\u001b[38;5;241m.\u001b[39mexecute_with_cancellation(\n\u001b[1;32m   1466\u001b[0m       name\u001b[38;5;241m.\u001b[39mdecode(\u001b[38;5;124m\"\u001b[39m\u001b[38;5;124mutf-8\u001b[39m\u001b[38;5;124m\"\u001b[39m),\n\u001b[1;32m   1467\u001b[0m       num_outputs\u001b[38;5;241m=\u001b[39mnum_outputs,\n\u001b[0;32m   (...)\u001b[0m\n\u001b[1;32m   1471\u001b[0m       cancellation_manager\u001b[38;5;241m=\u001b[39mcancellation_context,\n\u001b[1;32m   1472\u001b[0m   )\n",
      "File \u001b[0;32m~/venv-metal/lib/python3.9/site-packages/tensorflow/python/eager/execute.py:53\u001b[0m, in \u001b[0;36mquick_execute\u001b[0;34m(op_name, num_outputs, inputs, attrs, ctx, name)\u001b[0m\n\u001b[1;32m     51\u001b[0m \u001b[38;5;28;01mtry\u001b[39;00m:\n\u001b[1;32m     52\u001b[0m   ctx\u001b[38;5;241m.\u001b[39mensure_initialized()\n\u001b[0;32m---> 53\u001b[0m   tensors \u001b[38;5;241m=\u001b[39m \u001b[43mpywrap_tfe\u001b[49m\u001b[38;5;241;43m.\u001b[39;49m\u001b[43mTFE_Py_Execute\u001b[49m\u001b[43m(\u001b[49m\u001b[43mctx\u001b[49m\u001b[38;5;241;43m.\u001b[39;49m\u001b[43m_handle\u001b[49m\u001b[43m,\u001b[49m\u001b[43m \u001b[49m\u001b[43mdevice_name\u001b[49m\u001b[43m,\u001b[49m\u001b[43m \u001b[49m\u001b[43mop_name\u001b[49m\u001b[43m,\u001b[49m\n\u001b[1;32m     54\u001b[0m \u001b[43m                                      \u001b[49m\u001b[43minputs\u001b[49m\u001b[43m,\u001b[49m\u001b[43m \u001b[49m\u001b[43mattrs\u001b[49m\u001b[43m,\u001b[49m\u001b[43m \u001b[49m\u001b[43mnum_outputs\u001b[49m\u001b[43m)\u001b[49m\n\u001b[1;32m     55\u001b[0m \u001b[38;5;28;01mexcept\u001b[39;00m core\u001b[38;5;241m.\u001b[39m_NotOkStatusException \u001b[38;5;28;01mas\u001b[39;00m e:\n\u001b[1;32m     56\u001b[0m   \u001b[38;5;28;01mif\u001b[39;00m name \u001b[38;5;129;01mis\u001b[39;00m \u001b[38;5;129;01mnot\u001b[39;00m \u001b[38;5;28;01mNone\u001b[39;00m:\n",
      "\u001b[0;31mKeyboardInterrupt\u001b[0m: "
     ]
    }
   ],
   "source": [
    "from tensorflow.keras.losses import SparseCategoricalCrossentropy\n",
    "from segmentation_models.losses import bce_jaccard_loss\n",
    "from segmentation_models.metrics import iou_score\n",
    "from tensorflow.keras.optimizers import Adam\n",
    "\n",
    "# Load the pretrained model\n",
    "BACKBONE = 'resnet50'\n",
    "\n",
    "early_stopping_cb = tf.keras.callbacks.EarlyStopping(patience=50)\n",
    "\n",
    "checkpoint_path = \"training_weights/resnet50/imcp-{epoch:04d}.ckpt\"\n",
    "checkpoint_dir = os.path.dirname(checkpoint_path)\n",
    "cp_save_weight = tf.keras.callbacks.ModelCheckpoint(checkpoint_dir,verbose=1,save_weights_only= True,period = 5)\n",
    "\n",
    "\n",
    "# Set the input image dimensions\n",
    "input_shape = (1024, 1024, 3)\n",
    "\n",
    "model = sm.Unet(BACKBONE,encoder_weights='imagenet', input_shape=input_shape,classes=n_classes)\n",
    "\n",
    "\n",
    "# Compile the model with sparse categorical cross-entropy loss\n",
    "# Define the optimizer and compile the model with the loss and metrics\n",
    "optimizer = Adam(learning_rate=0.001)\n",
    "\n",
    "model.compile(optimizer=optimizer, loss=bce_jaccard_loss, metrics=[iou_score])\n",
    "\n",
    "weights = tf.train.latest_checkpoint('training_weights/')\n",
    "if  weights:\n",
    "    model.load_weights(weights)\n",
    "    \n",
    "\n",
    "# Train the model\n",
    "history = model.fit(X_train, y_train, epochs=400, batch_size=32,\n",
    "                    validation_data=(X_val, y_val),\n",
    "                        callbacks=[early_stopping_cb,cp_save_weight])\n",
    "\n",
    "\n"
   ]
  },
  {
   "cell_type": "code",
   "execution_count": null,
   "id": "016472a8",
   "metadata": {},
   "outputs": [],
   "source": []
  },
  {
   "cell_type": "code",
   "execution_count": null,
   "id": "49fa96ef",
   "metadata": {},
   "outputs": [],
   "source": []
  }
 ],
 "metadata": {
  "kernelspec": {
   "display_name": "Python 3 (ipykernel)",
   "language": "python",
   "name": "python3"
  },
  "language_info": {
   "codemirror_mode": {
    "name": "ipython",
    "version": 3
   },
   "file_extension": ".py",
   "mimetype": "text/x-python",
   "name": "python",
   "nbconvert_exporter": "python",
   "pygments_lexer": "ipython3",
   "version": "3.9.6"
  }
 },
 "nbformat": 4,
 "nbformat_minor": 5
}
